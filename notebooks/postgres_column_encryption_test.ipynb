{
 "cells": [
  {
   "cell_type": "markdown",
   "metadata": {},
   "source": [
    "# ทดสอบการเข้ารหัสคอลัมน์ใน Postgres ด้วย `pgcrypto`"
   ]
  },
  {
   "cell_type": "markdown",
   "metadata": {},
   "source": [
    "## เตรียมสภาพแวดล้อม\n",
    "- รัน `docker-compose up -d` เพื่อเริ่มฐานข้อมูล (มีการเปิดใช้ `pgcrypto` อัตโนมัติ)\n",
    "- แนะนำให้ใช้ virtual environment และติดตั้งไลบรารีใน `requirements.txt`"
   ]
  },
  {
   "cell_type": "code",
   "execution_count": null,
   "metadata": {},
   "outputs": [],
   "source": [
    "# ติดตั้งไลบรารีที่จำเป็น (ถ้ายังไม่มี)\n",
    "# หมายเหตุ: สามารถข้ามเซลล์นี้ได้ถ้าติดตั้งไว้แล้วใน venv\n",
    "# !pip install -q \"psycopg[binary]>=3.1\" pandas"
   ]
  },
  {
   "cell_type": "code",
   "execution_count": 1,
   "metadata": {},
   "outputs": [
    {
     "name": "stdout",
     "output_type": "stream",
     "text": [
      "เชื่อมต่อฐานข้อมูลสำเร็จ\n"
     ]
    }
   ],
   "source": [
    "# การตั้งค่าการเชื่อมต่อฐานข้อมูล\n",
    "import os\n",
    "import psycopg\n",
    "import pandas as pd\n",
    "\n",
    "HOST = os.getenv('PG_HOST', 'localhost')\n",
    "PORT = int(os.getenv('PG_PORT', '5432'))\n",
    "DB   = os.getenv('PG_DB', 'encdb')\n",
    "USER = os.getenv('PG_USER', 'encuser')\n",
    "PWD  = os.getenv('PG_PASSWORD', 'encpass')\n",
    "# คีย์สำหรับการเข้ารหัส/ถอดรหัสแบบ symmetric (เพื่อการทดสอบเท่านั้น)\n",
    "PASSPHRASE = os.getenv('PG_PASSPHRASE', 'my-strong-demo-passphrase')\n",
    "\n",
    "def get_conn():\n",
    "    return psycopg.connect(host=HOST, port=PORT, dbname=DB, user=USER, password=PWD)\n",
    "\n",
    "conn = get_conn()\n",
    "conn.autocommit = True\n",
    "cur = conn.cursor()\n",
    "print('เชื่อมต่อฐานข้อมูลสำเร็จ')"
   ]
  },
  {
   "cell_type": "markdown",
   "metadata": {},
   "source": [
    "## 1) เริ่มต้นฐานข้อมูลและสร้างตารางตัวอย่าง"
   ]
  },
  {
   "cell_type": "code",
   "execution_count": 2,
   "metadata": {},
   "outputs": [
    {
     "name": "stdout",
     "output_type": "stream",
     "text": [
      "สร้างตาราง customer_secret สำเร็จ\n"
     ]
    }
   ],
   "source": [
    "# สร้างส่วนขยาย pgcrypto (ถ้ายังไม่ได้เปิดใช้จากสคริปต์เริ่มต้น)\n",
    "cur.execute(\"CREATE EXTENSION IF NOT EXISTS pgcrypto;\")\n",
    "\n",
    "# ลบตารางเดิม (ถ้ามี) เพื่อทดสอบซ้ำได้\n",
    "cur.execute(\"DROP TABLE IF EXISTS customer_secret;\")\n",
    "\n",
    "# สร้างตารางที่มีคอลัมน์เข้ารหัสแบบ bytea โดยใช้ pgp_sym_encrypt\n",
    "cur.execute(\n",
    "    \"\"\"\n",
    "    CREATE TABLE customer_secret (\n",
    "        id SERIAL PRIMARY KEY,\n",
    "        full_name TEXT NOT NULL,\n",
    "        national_id_encrypted BYTEA NOT NULL -- เก็บข้อมูลหลังเข้ารหัส\n",
    "    );\n",
    "    \"\"\"\n",
    ")\n",
    "print('สร้างตาราง customer_secret สำเร็จ')"
   ]
  },
  {
   "cell_type": "markdown",
   "metadata": {},
   "source": [
    "## 2) เพิ่มข้อมูลโดยเข้ารหัส (Insert with Encrypt)"
   ]
  },
  {
   "cell_type": "code",
   "execution_count": 4,
   "metadata": {},
   "outputs": [
    {
     "name": "stdout",
     "output_type": "stream",
     "text": [
      "เพิ่มข้อมูลแบบเข้ารหัสสำเร็จ\n"
     ]
    }
   ],
   "source": [
    "# ตัวอย่างข้อมูลที่ต้องการปกป้อง เช่น เลขบัตรประชาชน\n",
    "samples = [\n",
    "    ('สมชาย ใจดี', '1101700200011'),\n",
    "    ('สมหญิง แข็งแรง', '1101700200022'),\n",
    "    ('สายฝน สายชล', '1101700200033'),\n",
    "]\n",
    "\n",
    "# ใช้ pgp_sym_encrypt เพื่อเข้ารหัสคอลัมน์ national_id_encrypted\n",
    "for full_name, nid in samples:\n",
    "    cur.execute(\"INSERT INTO customer_secret (full_name, national_id_encrypted) VALUES (%s, pgp_sym_encrypt(%s, %s));\",\n",
    "        (full_name, nid, PASSPHRASE)\n",
    "    )\n",
    "print('เพิ่มข้อมูลแบบเข้ารหัสสำเร็จ')"
   ]
  },
  {
   "cell_type": "markdown",
   "id": "257387da",
   "metadata": {},
   "source": [
    "## 2.1) ดูข้อมูลที่เข้ารหัสแล้วในฐานข้อมูล (View Encrypted Data)"
   ]
  },
  {
   "cell_type": "code",
   "execution_count": 5,
   "id": "003f3169",
   "metadata": {},
   "outputs": [
    {
     "name": "stdout",
     "output_type": "stream",
     "text": [
      "ข้อมูลที่เข้ารหัสในฐานข้อมูล:\n"
     ]
    },
    {
     "data": {
      "text/html": [
       "<div>\n",
       "<style scoped>\n",
       "    .dataframe tbody tr th:only-of-type {\n",
       "        vertical-align: middle;\n",
       "    }\n",
       "\n",
       "    .dataframe tbody tr th {\n",
       "        vertical-align: top;\n",
       "    }\n",
       "\n",
       "    .dataframe thead th {\n",
       "        text-align: right;\n",
       "    }\n",
       "</style>\n",
       "<table border=\"1\" class=\"dataframe\">\n",
       "  <thead>\n",
       "    <tr style=\"text-align: right;\">\n",
       "      <th></th>\n",
       "      <th>id</th>\n",
       "      <th>full_name</th>\n",
       "      <th>national_id_encrypted</th>\n",
       "    </tr>\n",
       "  </thead>\n",
       "  <tbody>\n",
       "    <tr>\n",
       "      <th>0</th>\n",
       "      <td>1</td>\n",
       "      <td>สมชาย ใจดี</td>\n",
       "      <td>b'\\xc3\\r\\x04\\x07\\x03\\x02\"z\\xc5\\x81\\x93\\x00\\xcb...</td>\n",
       "    </tr>\n",
       "    <tr>\n",
       "      <th>1</th>\n",
       "      <td>2</td>\n",
       "      <td>สมหญิง แข็งแรง</td>\n",
       "      <td>b'\\xc3\\r\\x04\\x07\\x03\\x02\\xf3\\x80\\x86#HWr\\x94~\\...</td>\n",
       "    </tr>\n",
       "    <tr>\n",
       "      <th>2</th>\n",
       "      <td>3</td>\n",
       "      <td>สายฝน สายชล</td>\n",
       "      <td>b'\\xc3\\r\\x04\\x07\\x03\\x02\\xad\\x8b\\xf5\\xbb\\x02\\x...</td>\n",
       "    </tr>\n",
       "  </tbody>\n",
       "</table>\n",
       "</div>"
      ],
      "text/plain": [
       "   id       full_name                              national_id_encrypted\n",
       "0   1      สมชาย ใจดี  b'\\xc3\\r\\x04\\x07\\x03\\x02\"z\\xc5\\x81\\x93\\x00\\xcb...\n",
       "1   2  สมหญิง แข็งแรง  b'\\xc3\\r\\x04\\x07\\x03\\x02\\xf3\\x80\\x86#HWr\\x94~\\...\n",
       "2   3     สายฝน สายชล  b'\\xc3\\r\\x04\\x07\\x03\\x02\\xad\\x8b\\xf5\\xbb\\x02\\x..."
      ]
     },
     "execution_count": 5,
     "metadata": {},
     "output_type": "execute_result"
    }
   ],
   "source": [
    "# ดูข้อมูลที่เข้ารหัสแล้วตามที่เก็บในฐานข้อมูล\n",
    "# จะเห็นว่าคอลัมน์ national_id_encrypted เป็นข้อมูลที่เข้ารหัสแล้ว (bytea)\n",
    "cur.execute(\"SELECT id, full_name, national_id_encrypted FROM customer_secret ORDER BY id;\")\n",
    "encrypted_rows = cur.fetchall()\n",
    "encrypted_df = pd.DataFrame(encrypted_rows, columns=['id', 'full_name', 'national_id_encrypted'])\n",
    "print(\"ข้อมูลที่เข้ารหัสในฐานข้อมูล:\")\n",
    "encrypted_df"
   ]
  },
  {
   "cell_type": "markdown",
   "metadata": {},
   "source": [
    "## 3) ค้นหาข้อมูลโดยถอดรหัส (Select with Decrypt)"
   ]
  },
  {
   "cell_type": "code",
   "execution_count": 6,
   "metadata": {},
   "outputs": [
    {
     "data": {
      "text/html": [
       "<div>\n",
       "<style scoped>\n",
       "    .dataframe tbody tr th:only-of-type {\n",
       "        vertical-align: middle;\n",
       "    }\n",
       "\n",
       "    .dataframe tbody tr th {\n",
       "        vertical-align: top;\n",
       "    }\n",
       "\n",
       "    .dataframe thead th {\n",
       "        text-align: right;\n",
       "    }\n",
       "</style>\n",
       "<table border=\"1\" class=\"dataframe\">\n",
       "  <thead>\n",
       "    <tr style=\"text-align: right;\">\n",
       "      <th></th>\n",
       "      <th>id</th>\n",
       "      <th>full_name</th>\n",
       "      <th>national_id</th>\n",
       "    </tr>\n",
       "  </thead>\n",
       "  <tbody>\n",
       "    <tr>\n",
       "      <th>0</th>\n",
       "      <td>1</td>\n",
       "      <td>สมชาย ใจดี</td>\n",
       "      <td>1101700200011</td>\n",
       "    </tr>\n",
       "    <tr>\n",
       "      <th>1</th>\n",
       "      <td>2</td>\n",
       "      <td>สมหญิง แข็งแรง</td>\n",
       "      <td>1101700200022</td>\n",
       "    </tr>\n",
       "    <tr>\n",
       "      <th>2</th>\n",
       "      <td>3</td>\n",
       "      <td>สายฝน สายชล</td>\n",
       "      <td>1101700200033</td>\n",
       "    </tr>\n",
       "  </tbody>\n",
       "</table>\n",
       "</div>"
      ],
      "text/plain": [
       "   id       full_name    national_id\n",
       "0   1      สมชาย ใจดี  1101700200011\n",
       "1   2  สมหญิง แข็งแรง  1101700200022\n",
       "2   3     สายฝน สายชล  1101700200033"
      ]
     },
     "execution_count": 6,
     "metadata": {},
     "output_type": "execute_result"
    }
   ],
   "source": [
    "# ใช้ pgp_sym_decrypt เพื่อถอดรหัสคอลัมน์ national_id_encrypted ขณะคิวรี\n",
    "cur.execute(\"SELECT id, full_name, pgp_sym_decrypt(national_id_encrypted, %s) AS national_id \\\n",
    "       FROM customer_secret \\\n",
    "       ORDER BY id;\",\n",
    "    (PASSPHRASE,)\n",
    ")\n",
    "rows = cur.fetchall()\n",
    "df = pd.DataFrame(rows, columns=['id', 'full_name', 'national_id'])\n",
    "df"
   ]
  },
  {
   "cell_type": "markdown",
   "metadata": {},
   "source": [
    "### หมายเหตุด้านความปลอดภัย\n",
    "- ตัวอย่างนี้เพื่อการสาธิต: เก็บ `passphrase` ในตัวแปรโน้ตบุ๊กเพื่อความง่าย\n",
    "- ในระบบจริงควรดึงคีย์จาก secret manager/ENV และกำหนดสิทธิ์อย่างเหมาะสม\n",
    "- `pgp_sym_encrypt/pgp_sym_decrypt` คืนค่า/ใช้ข้อมูลแบบ `bytea` ในตาราง\n",
    "- หลีกเลี่ยงการเข้ารหัสข้อมูลที่ต้องใช้ค้นหาแบบเท่ากัน/ช่วง (index ใช้ไม่ได้กับข้อมูลที่เข้ารหัสแบบนี้)"
   ]
  },
  {
   "cell_type": "code",
   "execution_count": 7,
   "metadata": {},
   "outputs": [
    {
     "name": "stdout",
     "output_type": "stream",
     "text": [
      "ปิดการเชื่อมต่อฐานข้อมูลแล้ว\n"
     ]
    }
   ],
   "source": [
    "# ปิดการเชื่อมต่อเมื่อทดสอบเสร็จ\n",
    "cur.close()\n",
    "conn.close()\n",
    "print('ปิดการเชื่อมต่อฐานข้อมูลแล้ว')"
   ]
  }
 ],
 "metadata": {
  "kernelspec": {
   "display_name": ".venv (3.13.3)",
   "language": "python",
   "name": "python3"
  },
  "language_info": {
   "codemirror_mode": {
    "name": "ipython",
    "version": 3
   },
   "file_extension": ".py",
   "mimetype": "text/x-python",
   "name": "python",
   "nbconvert_exporter": "python",
   "pygments_lexer": "ipython3",
   "version": "3.13.3"
  }
 },
 "nbformat": 4,
 "nbformat_minor": 5
}
