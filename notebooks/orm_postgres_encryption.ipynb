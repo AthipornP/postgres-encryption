{
 "cells": [
  {
   "cell_type": "markdown",
   "metadata": {},
   "source": [
    "# ทดสอบการเข้ารหัสคอลัมน์ด้วย ORM (SQLAlchemy) + pgcrypto\n",
    "\n",
    "โน้ตบุ๊กนี้สาธิตการใช้โมเดลฐานข้อมูล (ORM) เพื่อ\n",
    "- บันทึกข้อมูลเป็นข้อความปกติ แต่เข้ารหัสที่ฝั่งฐานข้อมูล (server-side) ด้วย `pgcrypto`\n",
    "- อ่านข้อมูลกลับมาเป็นข้อความที่ถอดรหัสแล้ว โดยโปร่งใสผ่านชนิดข้อมูลกำหนดเอง (TypeDecorator)\n",
    "\n",
    "ข้อดี: ไม่ต้องเขียน SQL เข้ารหัส/ถอดรหัสเองทุกครั้ง — ORM จัดการให้\n"
   ]
  },
  {
   "cell_type": "markdown",
   "metadata": {},
   "source": [
    "## เตรียมสภาพแวดล้อม\n",
    "- รัน `docker-compose up -d` เพื่อเริ่มฐานข้อมูลที่เปิด `pgcrypto` แล้ว\n",
    "- แนะนำให้เปิดใช้งาน venv และติดตั้งไลบรารีจาก `requirements.txt`\n",
    "- ถ้ายังไม่ได้ติดตั้ง สามารถใช้เซลล์ด้านล่างนี้ช่วยติดตั้งแบบชั่วคราว"
   ]
  },
  {
   "cell_type": "code",
   "execution_count": 1,
   "id": "4f121073",
   "metadata": {},
   "outputs": [],
   "source": [
    "# ติดตั้งไลบรารีที่จำเป็น (ข้ามได้ถ้าติดตั้งแล้ว)\n",
    "# !pip install -q \"psycopg[binary]>=3.1\" SQLAlchemy>=2.0 pandas"
   ]
  },
  {
   "cell_type": "markdown",
   "id": "3324cd18",
   "metadata": {},
   "source": [
    "## ตั้งค่าการเชื่อมต่อ และประกาศโมเดล ORM\n",
    "- ใช้ `TypeDecorator` เพื่อทำให้คอลัมน์ string เข้ารหัสก่อนบันทึก (bind_expression)\n",
    "- และถอดรหัสอัตโนมัติเมื่ออ่าน (column_expression) ด้วยฟังก์ชัน `pgp_sym_encrypt/pgp_sym_decrypt`"
   ]
  },
  {
   "cell_type": "code",
   "execution_count": 2,
   "id": "b6a712f1",
   "metadata": {},
   "outputs": [
    {
     "name": "stdout",
     "output_type": "stream",
     "text": [
      "สร้างตาราง customer_secret_orm สำเร็จ\n"
     ]
    }
   ],
   "source": [
    "import os\n",
    "import pandas as pd\n",
    "from sqlalchemy import create_engine, Text, LargeBinary, func, text, select, type_coerce\n",
    "from sqlalchemy.orm import DeclarativeBase, Mapped, mapped_column, Session\n",
    "from sqlalchemy.types import TypeDecorator\n",
    "\n",
    "# ค่าการเชื่อมต่อฐานข้อมูล (ปรับแก้ได้ผ่าน ENV)\n",
    "PG_HOST = os.getenv('PG_HOST', 'localhost')\n",
    "PG_PORT = int(os.getenv('PG_PORT', '5432'))\n",
    "PG_DB   = os.getenv('PG_DB', 'encdb')\n",
    "PG_USER = os.getenv('PG_USER', 'encuser')\n",
    "PG_PWD  = os.getenv('PG_PASSWORD', 'encpass')\n",
    "PASSPHRASE = os.getenv('PG_PASSPHRASE', 'my-strong-demo-passphrase')  # ใช้เพื่อการสาธิต\n",
    "\n",
    "# สร้าง engine ด้วยไดรเวอร์ psycopg3\n",
    "engine = create_engine(\n",
    "    f'postgresql+psycopg://{PG_USER}:{PG_PWD}@{PG_HOST}:{PG_PORT}/{PG_DB}',\n",
    "    future=True,\n",
    ")\n",
    "\n",
    "# ให้แน่ใจว่า pgcrypto ถูกเปิดใช้งาน (กรณีฐานข้อมูลใหม่)\n",
    "with engine.begin() as conn:\n",
    "    conn.execute(text(\"CREATE EXTENSION IF NOT EXISTS pgcrypto;\"))\n",
    "\n",
    "# ประกาศ Base สำหรับ ORM\n",
    "class Base(DeclarativeBase):\n",
    "    pass\n",
    "\n",
    "# สร้างชนิดข้อมูลกำหนดเองสำหรับคอลัมน์ที่ต้องเข้ารหัส/ถอดรหัสอัตโนมัติ\n",
    "class PgSymEncryptedString(TypeDecorator):\n",
    "    impl = LargeBinary  # เก็บจริงเป็น bytea\n",
    "    cache_ok = True\n",
    "\n",
    "    def __init__(self, passphrase: str):\n",
    "        super().__init__()\n",
    "        self.passphrase = passphrase\n",
    "\n",
    "    # แปลงค่าที่จะ bind เข้าไปเป็นคำสั่งเข้ารหัสที่ฝั่งฐานข้อมูล\n",
    "    def bind_expression(self, bindvalue):\n",
    "        # ใช้ type_coerce เพื่อให้พารามิเตอร์ถูกมองเป็น TEXT ตั้งแต่ชั้น SQLAlchemy\n",
    "        # หลีกเลี่ยงปัญหาแคสต์จาก bytea -> text ฝั่งฐานข้อมูล\n",
    "        return func.pgp_sym_encrypt(type_coerce(bindvalue, Text()), self.passphrase)\n",
    "\n",
    "    # แปลงคอลัมน์ที่อ่านออกมาให้ถอดรหัสอัตโนมัติ\n",
    "    def column_expression(self, col):\n",
    "        # pgp_sym_decrypt คืนค่าเป็น TEXT อยู่แล้ว ใช้ type_coerce เพื่อบอกชนิดกลับไปยัง ORM\n",
    "        return type_coerce(func.pgp_sym_decrypt(col, self.passphrase), Text())\n",
    "\n",
    "# โมเดลตัวอย่าง: customer_secret_orm\n",
    "class CustomerSecretORM(Base):\n",
    "    __tablename__ = 'customer_secret_orm'\n",
    "    id: Mapped[int] = mapped_column(primary_key=True, autoincrement=True)\n",
    "    full_name: Mapped[str] = mapped_column(Text, nullable=False)\n",
    "    # national_id จะถูกเข้ารหัสก่อนบันทึก และถูกถอดรหัสเมื่ออ่านโดยอัตโนมัติ\n",
    "    national_id: Mapped[str] = mapped_column(PgSymEncryptedString(PASSPHRASE), nullable=False)\n",
    "\n",
    "    def __repr__(self) -> str:\n",
    "        return f\"<CustomerSecretORM id={self.id} full_name={self.full_name!r}>\"\n",
    "\n",
    "# สร้างตาราง (ใช้ชื่อใหม่ต่างจากตัวอย่าง SQL ดิบ เพื่อหลีกเลี่ยงชนกัน)\n",
    "with engine.begin() as conn:\n",
    "    conn.execute(text('DROP TABLE IF EXISTS customer_secret_orm'))\n",
    "Base.metadata.create_all(engine)\n",
    "print('สร้างตาราง customer_secret_orm สำเร็จ')\n"
   ]
  },
  {
   "cell_type": "markdown",
   "id": "8008578b",
   "metadata": {},
   "source": [
    "## แทรกข้อมูลด้วย ORM (จะเข้ารหัสอัตโนมัติที่ฝั่งฐานข้อมูล)"
   ]
  },
  {
   "cell_type": "code",
   "execution_count": 3,
   "id": "bfbdc324",
   "metadata": {},
   "outputs": [
    {
     "name": "stdout",
     "output_type": "stream",
     "text": [
      "เพิ่มข้อมูลสำเร็จ (ถูกเข้ารหัสก่อนบันทึก)\n"
     ]
    }
   ],
   "source": [
    "samples = [\n",
    "    ('สมชาย ใจดี', '1101700200011'),\n",
    "    ('สมหญิง แข็งแรง', '1101700200022'),\n",
    "    ('สายฝน สายชล', '1101700200033'),\n",
    "]\n",
    "\n",
    "with Session(engine) as session:\n",
    "    session.add_all([CustomerSecretORM(full_name=n, national_id=i) for n, i in samples])\n",
    "    session.commit()\n",
    "print('เพิ่มข้อมูลสำเร็จ (ถูกเข้ารหัสก่อนบันทึก)')\n"
   ]
  },
  {
   "cell_type": "markdown",
   "metadata": {},
   "source": [
    "## อ่านข้อมูลแบบเข้ารหัส (ยังไม่ถอดรหัส)"
   ]
  },
  {
   "cell_type": "code",
   "execution_count": 4,
   "metadata": {},
   "outputs": [
    {
     "data": {
      "text/html": [
       "<div>\n",
       "<style scoped>\n",
       "    .dataframe tbody tr th:only-of-type {\n",
       "        vertical-align: middle;\n",
       "    }\n",
       "\n",
       "    .dataframe tbody tr th {\n",
       "        vertical-align: top;\n",
       "    }\n",
       "\n",
       "    .dataframe thead th {\n",
       "        text-align: right;\n",
       "    }\n",
       "</style>\n",
       "<table border=\"1\" class=\"dataframe\">\n",
       "  <thead>\n",
       "    <tr style=\"text-align: right;\">\n",
       "      <th></th>\n",
       "      <th>id</th>\n",
       "      <th>full_name</th>\n",
       "      <th>national_id_encrypted</th>\n",
       "      <th>ct_hex</th>\n",
       "      <th>ct_bytes</th>\n",
       "    </tr>\n",
       "  </thead>\n",
       "  <tbody>\n",
       "    <tr>\n",
       "      <th>0</th>\n",
       "      <td>1</td>\n",
       "      <td>สมชาย ใจดี</td>\n",
       "      <td>1101700200011</td>\n",
       "      <td>c30d04070302519a42b6349ed82c78d23e018237802dda...</td>\n",
       "      <td>79</td>\n",
       "    </tr>\n",
       "    <tr>\n",
       "      <th>1</th>\n",
       "      <td>2</td>\n",
       "      <td>สมหญิง แข็งแรง</td>\n",
       "      <td>1101700200022</td>\n",
       "      <td>c30d04070302fdd807de1358174665d23e011717489646...</td>\n",
       "      <td>79</td>\n",
       "    </tr>\n",
       "    <tr>\n",
       "      <th>2</th>\n",
       "      <td>3</td>\n",
       "      <td>สายฝน สายชล</td>\n",
       "      <td>1101700200033</td>\n",
       "      <td>c30d04070302abb41e102b738b1d7fd23e015f8e132c9a...</td>\n",
       "      <td>79</td>\n",
       "    </tr>\n",
       "  </tbody>\n",
       "</table>\n",
       "</div>"
      ],
      "text/plain": [
       "   id       full_name national_id_encrypted  \\\n",
       "0   1      สมชาย ใจดี         1101700200011   \n",
       "1   2  สมหญิง แข็งแรง         1101700200022   \n",
       "2   3     สายฝน สายชล         1101700200033   \n",
       "\n",
       "                                              ct_hex  ct_bytes  \n",
       "0  c30d04070302519a42b6349ed82c78d23e018237802dda...        79  \n",
       "1  c30d04070302fdd807de1358174665d23e011717489646...        79  \n",
       "2  c30d04070302abb41e102b738b1d7fd23e015f8e132c9a...        79  "
      ]
     },
     "execution_count": 4,
     "metadata": {},
     "output_type": "execute_result"
    }
   ],
   "source": [
    "# เลือกคอลัมน์ bytea จริงจากตารางโดยตรง เพื่อดู ciphertext\n",
    "with Session(engine) as session:\n",
    "    result = session.execute(\n",
    "        select(\n",
    "            CustomerSecretORM.id,\n",
    "            CustomerSecretORM.full_name,\n",
    "            CustomerSecretORM.__table__.c.national_id.label('national_id_encrypted'),\n",
    "            func.encode(CustomerSecretORM.__table__.c.national_id, 'hex').label('ct_hex'),\n",
    "            func.octet_length(CustomerSecretORM.__table__.c.national_id).label('ct_bytes')\n",
    "        ).order_by(CustomerSecretORM.id)\n",
    "    ).all()\n",
    "\n",
    "df = pd.DataFrame(result, columns=['id', 'full_name', 'national_id_encrypted', 'ct_hex', 'ct_bytes'])\n",
    "df\n"
   ]
  },
  {
   "cell_type": "markdown",
   "metadata": {},
   "source": [
    "## อ่านข้อมูลด้วย ORM (ถอดรหัสอัตโนมัติผ่าน column_expression)"
   ]
  },
  {
   "cell_type": "code",
   "execution_count": 5,
   "metadata": {},
   "outputs": [
    {
     "data": {
      "text/html": [
       "<div>\n",
       "<style scoped>\n",
       "    .dataframe tbody tr th:only-of-type {\n",
       "        vertical-align: middle;\n",
       "    }\n",
       "\n",
       "    .dataframe tbody tr th {\n",
       "        vertical-align: top;\n",
       "    }\n",
       "\n",
       "    .dataframe thead th {\n",
       "        text-align: right;\n",
       "    }\n",
       "</style>\n",
       "<table border=\"1\" class=\"dataframe\">\n",
       "  <thead>\n",
       "    <tr style=\"text-align: right;\">\n",
       "      <th></th>\n",
       "      <th>id</th>\n",
       "      <th>full_name</th>\n",
       "      <th>national_id</th>\n",
       "    </tr>\n",
       "  </thead>\n",
       "  <tbody>\n",
       "    <tr>\n",
       "      <th>0</th>\n",
       "      <td>1</td>\n",
       "      <td>สมชาย ใจดี</td>\n",
       "      <td>1101700200011</td>\n",
       "    </tr>\n",
       "    <tr>\n",
       "      <th>1</th>\n",
       "      <td>2</td>\n",
       "      <td>สมหญิง แข็งแรง</td>\n",
       "      <td>1101700200022</td>\n",
       "    </tr>\n",
       "    <tr>\n",
       "      <th>2</th>\n",
       "      <td>3</td>\n",
       "      <td>สายฝน สายชล</td>\n",
       "      <td>1101700200033</td>\n",
       "    </tr>\n",
       "  </tbody>\n",
       "</table>\n",
       "</div>"
      ],
      "text/plain": [
       "   id       full_name    national_id\n",
       "0   1      สมชาย ใจดี  1101700200011\n",
       "1   2  สมหญิง แข็งแรง  1101700200022\n",
       "2   3     สายฝน สายชล  1101700200033"
      ]
     },
     "execution_count": 5,
     "metadata": {},
     "output_type": "execute_result"
    }
   ],
   "source": [
    "with Session(engine) as session:\n",
    "    result = session.execute(\n",
    "        select(CustomerSecretORM.id, CustomerSecretORM.full_name, CustomerSecretORM.national_id)\n",
    "        .order_by(CustomerSecretORM.id)\n",
    "    ).all()\n",
    "\n",
    "df = pd.DataFrame(result, columns=['id', 'full_name', 'national_id'])\n",
    "df\n"
   ]
  },
  {
   "cell_type": "markdown",
   "metadata": {},
   "source": [
    "## ตรวจสอบข้อมูลที่เก็บจริงเป็น bytea (ยังเป็นข้อมูลเข้ารหัส)\n",
    "- ด้านล่างนี้คิวรีแบบ SQL ดิบเพื่อดูความยาว ciphertext\n",
    "- จะเห็นว่าคอลัมน์ในฐานข้อมูลเป็น `bytea` ไม่ใช่ string ธรรมดา"
   ]
  },
  {
   "cell_type": "code",
   "execution_count": 6,
   "metadata": {},
   "outputs": [
    {
     "data": {
      "text/html": [
       "<div>\n",
       "<style scoped>\n",
       "    .dataframe tbody tr th:only-of-type {\n",
       "        vertical-align: middle;\n",
       "    }\n",
       "\n",
       "    .dataframe tbody tr th {\n",
       "        vertical-align: top;\n",
       "    }\n",
       "\n",
       "    .dataframe thead th {\n",
       "        text-align: right;\n",
       "    }\n",
       "</style>\n",
       "<table border=\"1\" class=\"dataframe\">\n",
       "  <thead>\n",
       "    <tr style=\"text-align: right;\">\n",
       "      <th></th>\n",
       "      <th>id</th>\n",
       "      <th>full_name</th>\n",
       "      <th>ct_bytes</th>\n",
       "    </tr>\n",
       "  </thead>\n",
       "  <tbody>\n",
       "    <tr>\n",
       "      <th>0</th>\n",
       "      <td>1</td>\n",
       "      <td>สมชาย ใจดี</td>\n",
       "      <td>79</td>\n",
       "    </tr>\n",
       "    <tr>\n",
       "      <th>1</th>\n",
       "      <td>2</td>\n",
       "      <td>สมหญิง แข็งแรง</td>\n",
       "      <td>79</td>\n",
       "    </tr>\n",
       "    <tr>\n",
       "      <th>2</th>\n",
       "      <td>3</td>\n",
       "      <td>สายฝน สายชล</td>\n",
       "      <td>79</td>\n",
       "    </tr>\n",
       "  </tbody>\n",
       "</table>\n",
       "</div>"
      ],
      "text/plain": [
       "   id       full_name  ct_bytes\n",
       "0   1      สมชาย ใจดี        79\n",
       "1   2  สมหญิง แข็งแรง        79\n",
       "2   3     สายฝน สายชล        79"
      ]
     },
     "execution_count": 6,
     "metadata": {},
     "output_type": "execute_result"
    }
   ],
   "source": [
    "with engine.begin() as conn:\n",
    "    rows = conn.execute(\n",
    "        text(\"SELECT id, full_name, octet_length(national_id) AS ct_bytes FROM customer_secret_orm ORDER BY id\")\n",
    "    ).fetchall()\n",
    "pd.DataFrame(rows, columns=['id', 'full_name', 'ct_bytes'])\n"
   ]
  },
  {
   "cell_type": "markdown",
   "metadata": {},
   "source": [
    "### หมายเหตุด้านความปลอดภัย\n",
    "- ตัวอย่างนี้ใช้ passphrase แบบกำหนดใน ENV/ตัวแปร เพื่อความง่ายในการสาธิต\n",
    "- ในระบบจริงควรเก็บคีย์ใน secret manager และจำกัดสิทธิ์การเข้าถึง\n",
    "- การเข้ารหัสแบบ symmetric เหมาะกับข้อมูลที่ต้องปกป้องขณะพักเก็บ (at rest)\n",
    "- การทำ index บนข้อมูลที่เข้ารหัสโดยตรงไม่สามารถทำได้ตามปกติ\n",
    "- พิจารณาใช้แนวทางอื่น (เช่น แฮชสำหรับค้นหาเท่ากัน) หากมีความต้องการค้นหา\n"
   ]
  }
 ],
 "metadata": {
  "kernelspec": {
   "display_name": ".venv (3.13.3)",
   "language": "python",
   "name": "python3"
  },
  "language_info": {
   "codemirror_mode": {
    "name": "ipython",
    "version": 3
   },
   "file_extension": ".py",
   "mimetype": "text/x-python",
   "name": "python",
   "nbconvert_exporter": "python",
   "pygments_lexer": "ipython3",
   "version": "3.13.3"
  }
 },
 "nbformat": 4,
 "nbformat_minor": 5
}
