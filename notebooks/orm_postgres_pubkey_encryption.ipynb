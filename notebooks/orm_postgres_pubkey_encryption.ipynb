{
 "cells": [
  {
   "cell_type": "markdown",
   "metadata": {},
   "source": [
    "# ทดสอบการเข้ารหัสแบบกุญแจสาธารณะ (pgp_pub_encrypt/pgp_pub_decrypt) ด้วย ORM\n",
    "\n",
    "โน้ตบุ๊กนี้สาธิตการใช้งาน `pgcrypto` แบบกุญแจสาธารณะร่วมกับ ORM (SQLAlchemy) โดย\n",
    "- สร้างกุญแจสาธารณะ/กุญแจส่วนตัว (OpenPGP) ด้วยไลบรารี `pgpy` ใน Python\n",
    "- บันทึกข้อมูลด้วยการเข้ารหัสที่ฝั่งฐานข้อมูล: `pgp_pub_encrypt(data, public_key)`\n",
    "- อ่านข้อมูลด้วยการถอดรหัสที่ฝั่งฐานข้อมูล: `pgp_pub_decrypt(cipher, private_key[, passphrase])`\n",
    "\n",
    "คำเตือน: ตัวอย่างนี้สร้างกุญแจใหม่ทุกครั้งเพื่อการสาธิต — ข้อมูลที่เข้ารหัสด้วยกุญแจชุดหนึ่งจะถอดไม่ได้หากสูญเสียกุญแจส่วนตัวของชุดนั้น\n"
   ]
  },
  {
   "cell_type": "markdown",
   "metadata": {},
   "source": [
    "## เตรียมสภาพแวดล้อม\n",
    "- รัน `docker-compose up -d` เพื่อเริ่มฐานข้อมูล (เปิด `pgcrypto` อัตโนมัติ)\n",
    "- แนะนำให้เปิดใช้งาน venv และติดตั้งไลบรารีใน `requirements.txt`\n",
    "- หากยังไม่ได้ติดตั้ง สามารถใช้เซลล์ pip ด้านล่างนี้ (ชั่วคราว)"
   ]
  },
  {
   "cell_type": "code",
   "execution_count": null,
   "metadata": {},
   "outputs": [],
   "source": [
    "# ติดตั้งไลบรารีที่จำเป็น (ข้ามได้ถ้าติดตั้งแล้ว)\n",
    "# !pip install -q \"psycopg[binary]>=3.1\" SQLAlchemy>=2.0 pandas pgpy>=0.5\n"
   ]
  },
  {
   "cell_type": "markdown",
   "metadata": {},
   "source": [
    "## สร้างกุญแจสาธารณะ/ส่วนตัว (OpenPGP) ด้วย pgpy\n",
    "- เพื่อการสาธิตเราจะสร้างกุญแจใหม่ในหน่วยความจำทุกครั้ง\n",
    "- หากต้องการใช้กุญแจถาวร ควรจัดเก็บไว้ (เช่น ไฟล์/Secret Manager) และกำหนดรหัสผ่านที่รัดกุม"
   ]
  },
  {
   "cell_type": "code",
   "execution_count": null,
   "metadata": {},
   "outputs": [],
   "source": [
    "import os, datetime\n",
    "import pandas as pd\n",
    "from sqlalchemy import create_engine, Text, LargeBinary, func, text, select, type_coerce\n",
    "from sqlalchemy.orm import DeclarativeBase, Mapped, mapped_column, Session\n",
    "from sqlalchemy.types import TypeDecorator\n",
    "\n",
    "import pgpy\n",
    "from pgpy.constants import PubKeyAlgorithm, KeyFlags, HashAlgorithm, SymmetricKeyAlgorithm, CompressionAlgorithm\n",
    "\n",
    "# สร้างกุญแจใหม่ (เพื่อสาธิต)\n",
    "uid = pgpy.PGPUID.new('Demo User', comment='PGP Demo', email='demo@example.com')\n",
    "key = pgpy.PGPKey.new(PubKeyAlgorithm.RSAEncryptOrSign, 2048)\n",
    "key.add_uid(uid,\n",
    "           usage={KeyFlags.EncryptCommunications, KeyFlags.EncryptStorage},\n",
    "           hashes=[HashAlgorithm.SHA256],\n",
    "           ciphers=[SymmetricKeyAlgorithm.AES256],\n",
    "           compression=[CompressionAlgorithm.ZLIB])\n",
    "\n",
    "# ป้องกันกุญแจส่วนตัวด้วยรหัสผ่านสำหรับสาธิต\n",
    "PRIVATE_PASSPHRASE = os.getenv('PG_PRIVATE_PASSPHRASE', 'demo-private-passphrase')\n",
    "key.protect(PRIVATE_PASSPHRASE, SymmetricKeyAlgorithm.AES256, HashAlgorithm.SHA256)\n",
    "\n",
    "PUBLIC_KEY_TEXT = str(key.pubkey)\n",
    "PRIVATE_KEY_TEXT = str(key)\n",
    "print('สร้างคู่กุญแจเสร็จสิ้น')\n"
   ]
  },
  {
   "cell_type": "markdown",
   "metadata": {},
   "source": [
    "## ตั้งค่าการเชื่อมต่อ และประกาศโมเดล ORM พร้อมชนิดข้อมูลเข้ารหัสแบบกุญแจสาธารณะ"
   ]
  },
  {
   "cell_type": "code",
   "execution_count": null,
   "metadata": {},
   "outputs": [],
   "source": [
    "PG_HOST = os.getenv('PG_HOST', 'localhost')\n",
    "PG_PORT = int(os.getenv('PG_PORT', '5432'))\n",
    "PG_DB   = os.getenv('PG_DB', 'encdb')\n",
    "PG_USER = os.getenv('PG_USER', 'encuser')\n",
    "PG_PWD  = os.getenv('PG_PASSWORD', 'encpass')\n",
    "\n",
    "engine = create_engine(\n",
    "    f'postgresql+psycopg://{PG_USER}:{PG_PWD}@{PG_HOST}:{PG_PORT}/{PG_DB}',\n",
    "    future=True,\n",
    ")\n",
    "\n",
    "# เปิดใช้ส่วนขยาย pgcrypto หากยังไม่ได้เปิด\n",
    "with engine.begin() as conn:\n",
    "    conn.execute(text('CREATE EXTENSION IF NOT EXISTS pgcrypto;'))\n",
    "\n",
    "class Base(DeclarativeBase):\n",
    "    pass\n",
    "\n",
    "class PgPubEncryptedString(TypeDecorator):\n",
    "    impl = LargeBinary  # เก็บในฐานข้อมูลเป็น bytea\n",
    "    cache_ok = True\n",
    "\n",
    "    def __init__(self, public_key_text: str, private_key_text: str, private_passphrase: str | None = None):\n",
    "        super().__init__()\n",
    "        self.public_key_text = public_key_text\n",
    "        self.private_key_text = private_key_text\n",
    "        self.private_passphrase = private_passphrase\n",
    "\n",
    "    # ก่อนบันทึก: เข้ารหัสฝั่งฐานข้อมูลด้วยกุญแจสาธารณะ\n",
    "    def bind_expression(self, bindvalue):\n",
    "        return func.pgp_pub_encrypt(type_coerce(bindvalue, Text()), self.public_key_text)\n",
    "\n",
    "    # ตอนอ่าน: ถอดรหัสฝั่งฐานข้อมูลด้วยกุญแจส่วนตัว (และ passphrase ถ้ามี)\n",
    "    def column_expression(self, col):\n",
    "        if self.private_passphrase:\n",
    "            return type_coerce(func.pgp_pub_decrypt(col, self.private_key_text, self.private_passphrase), Text())\n",
    "        else:\n",
    "            return type_coerce(func.pgp_pub_decrypt(col, self.private_key_text), Text())\n",
    "\n",
    "class CustomerSecretPubORM(Base):\n",
    "    __tablename__ = 'customer_secret_pub_orm'\n",
    "    id: Mapped[int] = mapped_column(primary_key=True, autoincrement=True)\n",
    "    full_name: Mapped[str] = mapped_column(Text, nullable=False)\n",
    "    national_id: Mapped[str] = mapped_column(\n",
    "        PgPubEncryptedString(PUBLIC_KEY_TEXT, PRIVATE_KEY_TEXT, PRIVATE_PASSPHRASE),\n",
    "        nullable=False\n",
    "    )\n",
    "\n",
    "# สร้างตารางใหม่เพื่อการทดสอบ (ลบทิ้งก่อน)\n",
    "with engine.begin() as conn:\n",
    "    conn.execute(text('DROP TABLE IF EXISTS customer_secret_pub_orm'))\n",
    "Base.metadata.create_all(engine)\n",
    "print('สร้างตาราง customer_secret_pub_orm สำเร็จ')\n"
   ]
  },
  {
   "cell_type": "markdown",
   "metadata": {},
   "source": [
    "## แทรกข้อมูล (จะถูกเข้ารหัสด้วยกุญแจสาธารณะโดยอัตโนมัติ)"
   ]
  },
  {
   "cell_type": "code",
   "execution_count": null,
   "metadata": {},
   "outputs": [],
   "source": [
    "samples = [\n",
    "    ('สมชาย ใจดี', '1101700200011'),\n",
    "    ('สมหญิง แข็งแรง', '1101700200022'),\n",
    "    ('สายฝน สายชล', '1101700200033'),\n",
    "]\n",
    "\n",
    "with Session(engine) as session:\n",
    "    session.add_all([CustomerSecretPubORM(full_name=n, national_id=i) for n, i in samples])\n",
    "    session.commit()\n",
    "print('เพิ่มข้อมูลสำเร็จ (ถูกเข้ารหัสก่อนบันทึก)')\n"
   ]
  },
  {
   "cell_type": "markdown",
   "metadata": {},
   "source": [
    "## อ่านข้อมูลแบบเข้ารหัส (ยังไม่ถอดรหัส)"
   ]
  },
  {
   "cell_type": "code",
   "execution_count": null,
   "metadata": {},
   "outputs": [],
   "source": [
    "with Session(engine) as session:\n",
    "    result = session.execute(\n",
    "        select(\n",
    "            CustomerSecretPubORM.id,\n",
    "            CustomerSecretPubORM.full_name,\n",
    "            CustomerSecretPubORM.__table__.c.national_id.label('national_id_encrypted'),\n",
    "            func.encode(CustomerSecretPubORM.__table__.c.national_id, 'hex').label('ct_hex'),\n",
    "            func.octet_length(CustomerSecretPubORM.__table__.c.national_id).label('ct_bytes')\n",
    "        ).order_by(CustomerSecretPubORM.id)\n",
    "    ).all()\n",
    "pd.DataFrame(result, columns=['id', 'full_name', 'national_id_encrypted', 'ct_hex', 'ct_bytes'])\n"
   ]
  },
  {
   "cell_type": "markdown",
   "metadata": {},
   "source": [
    "## อ่านข้อมูลแบบถอดรหัส (ผ่าน column_expression)"
   ]
  },
  {
   "cell_type": "code",
   "execution_count": null,
   "metadata": {},
   "outputs": [],
   "source": [
    "with Session(engine) as session:\n",
    "    result = session.execute(\n",
    "        select(CustomerSecretPubORM.id, CustomerSecretPubORM.full_name, CustomerSecretPubORM.national_id)\n",
    "        .order_by(CustomerSecretPubORM.id)\n",
    "    ).all()\n",
    "pd.DataFrame(result, columns=['id', 'full_name', 'national_id'])\n"
   ]
  },
  {
   "cell_type": "markdown",
   "metadata": {},
   "source": [
    "### หมายเหตุ\n",
    "- ตัวอย่างนี้สร้างกุญแจทุกครั้ง ข้อมูลที่เขียนด้วยกุญแจชุดนี้จะถอดไม่ได้หากเปลี่ยนกุญแจ\n",
    "- หากต้องการใช้งานจริง ให้สร้าง/เก็บกุญแจถาวร และกำหนดสิทธิ์เข้าถึงอย่างเหมาะสม\n",
    "- `pgp_pub_encrypt`/`pgp_pub_decrypt` เก็บข้อมูลเป็น `bytea` ในตาราง และไม่เหมาะกับการทำ index โดยตรง\n"
   ]
  }
 ],
 "metadata": {
  "kernelspec": {
   "display_name": "Python 3",
   "language": "python",
   "name": "python3"
  },
  "language_info": {
   "name": "python",
   "version": "3"
  }
 },
 "nbformat": 4,
 "nbformat_minor": 5
}

