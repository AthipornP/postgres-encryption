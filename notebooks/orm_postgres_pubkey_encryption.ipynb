{
 "cells": [
  {
   "cell_type": "markdown",
   "metadata": {},
   "source": [
    "# ทดสอบการเข้ารหัสแบบกุญแจสาธารณะ (pgp_pub_encrypt/pgp_pub_decrypt) ด้วย ORM\n",
    "\n",
    "โน้ตบุ๊กนี้สาธิตการใช้งาน `pgcrypto` แบบกุญแจสาธารณะร่วมกับ ORM (SQLAlchemy) โดย\n",
    "- สร้างกุญแจสาธารณะ/กุญแจส่วนตัว (OpenPGP) ด้วยไลบรารี `pgpy` ใน Python\n",
    "- บันทึกข้อมูลด้วยการเข้ารหัสที่ฝั่งฐานข้อมูล: `pgp_pub_encrypt(data, public_key)`\n",
    "- อ่านข้อมูลด้วยการถอดรหัสที่ฝั่งฐานข้อมูล: `pgp_pub_decrypt(cipher, private_key[, passphrase])`\n",
    "\n",
    "คำเตือน: ตัวอย่างนี้สร้างกุญแจใหม่ทุกครั้งเพื่อการสาธิต — ข้อมูลที่เข้ารหัสด้วยกุญแจชุดหนึ่งจะถอดไม่ได้หากสูญเสียกุญแจส่วนตัวของชุดนั้น\n"
   ]
  },
  {
   "cell_type": "markdown",
   "metadata": {},
   "source": [
    "## เตรียมสภาพแวดล้อม\n",
    "- รัน `docker-compose up -d` เพื่อเริ่มฐานข้อมูล (เปิด `pgcrypto` อัตโนมัติ)\n",
    "- แนะนำให้เปิดใช้งาน venv และติดตั้งไลบรารีใน `requirements.txt`\n",
    "- หากยังไม่ได้ติดตั้ง สามารถใช้เซลล์ pip ด้านล่างนี้ (ชั่วคราว)"
   ]
  },
  {
   "cell_type": "code",
   "execution_count": 1,
   "id": "f0a432d0",
   "metadata": {},
   "outputs": [],
   "source": [
    "# ติดตั้งไลบรารีที่จำเป็น (ข้ามได้ถ้าติดตั้งแล้ว)\n",
    "# !pip install -q \"psycopg[binary]>=3.1\" SQLAlchemy>=2.0 pandas pgpy>=0.5\n"
   ]
  },
  {
   "cell_type": "markdown",
   "id": "adbb370c",
   "metadata": {},
   "source": [
    "## สร้างกุญแจสาธารณะ/ส่วนตัว (OpenPGP) ด้วย pgpy\n",
    "- เพื่อการสาธิตเราจะสร้างกุญแจใหม่ในหน่วยความจำทุกครั้ง\n",
    "- เพิ่ม subkey สำหรับเข้ารหัส (จำเป็นสำหรับ `pgp_pub_encrypt`)\n",
    "- หากต้องการใช้กุญแจถาวร ควรจัดเก็บไว้ (เช่น ไฟล์/Secret Manager) และกำหนดรหัสผ่านที่รัดกุม"
   ]
  },
  {
   "cell_type": "code",
   "execution_count": 2,
   "id": "5d05289e",
   "metadata": {},
   "outputs": [
    {
     "name": "stdout",
     "output_type": "stream",
     "text": [
      "สร้างคู่กุญแจเสร็จสิ้น (พร้อม subkey สำหรับเข้ารหัส)\n"
     ]
    },
    {
     "name": "stderr",
     "output_type": "stream",
     "text": [
      "d:\\source\\repos\\postgres-encryption\\.venv\\Lib\\site-packages\\pgpy\\constants.py:193: CryptographyDeprecationWarning: TripleDES has been moved to cryptography.hazmat.decrepit.ciphers.algorithms.TripleDES and will be removed from cryptography.hazmat.primitives.ciphers.algorithms in 48.0.0.\n",
      "  SymmetricKeyAlgorithm.TripleDES: algorithms.TripleDES,\n"
     ]
    }
   ],
   "source": [
    "import os, sys, types, datetime\n",
    "import pandas as pd\n",
    "from sqlalchemy import create_engine, Text, LargeBinary, func, text, select, type_coerce, literal\n",
    "from sqlalchemy.orm import DeclarativeBase, Mapped, mapped_column, Session\n",
    "from sqlalchemy.types import TypeDecorator\n",
    "\n",
    "# NOTE: Python 3.13 ได้ลบโมดูลมาตรฐาน `imghdr` ออก ทำให้ `pgpy` import ไม่ได้\n",
    "# เพื่อการสาธิต เราสร้าง shim โมดูล `imghdr` อย่างง่ายที่มีฟังก์ชัน what() เพียงพอ\n",
    "imghdr_shim = types.ModuleType('imghdr')\n",
    "def _imghdr_what(file, h=None):\n",
    "    return None  # ไม่จำเป็นต้องตรวจชนิดรูปภาพในตัวอย่างนี้\n",
    "imghdr_shim.what = _imghdr_what\n",
    "sys.modules['imghdr'] = imghdr_shim\n",
    "\n",
    "import pgpy\n",
    "from pgpy.constants import PubKeyAlgorithm, KeyFlags, HashAlgorithm, SymmetricKeyAlgorithm, CompressionAlgorithm\n",
    "\n",
    "# สร้างกุญแจใหม่ (เพื่อสาธิต)\n",
    "uid = pgpy.PGPUID.new('Demo User', comment='PGP Demo', email='demo@example.com')\n",
    "key = pgpy.PGPKey.new(PubKeyAlgorithm.RSAEncryptOrSign, 2048)\n",
    "key.add_uid(uid,\n",
    "           usage={KeyFlags.Certify, KeyFlags.Sign},\n",
    "           hashes=[HashAlgorithm.SHA256],\n",
    "           ciphers=[SymmetricKeyAlgorithm.AES256],\n",
    "           compression=[CompressionAlgorithm.ZLIB])\n",
    "\n",
    "# เพิ่ม subkey สำหรับการเข้ารหัส (จำเป็นสำหรับ pgp_pub_encrypt)\n",
    "enc_subkey = pgpy.PGPKey.new(PubKeyAlgorithm.RSAEncryptOrSign, 2048)\n",
    "key.add_subkey(enc_subkey,\n",
    "               usage={KeyFlags.EncryptCommunications, KeyFlags.EncryptStorage},\n",
    "               hashes=[HashAlgorithm.SHA256],\n",
    "               ciphers=[SymmetricKeyAlgorithm.AES256],\n",
    "               compression=[CompressionAlgorithm.ZLIB])\n",
    "\n",
    "# ป้องกันกุญแจส่วนตัวด้วยรหัสผ่านสำหรับสาธิต\n",
    "PRIVATE_PASSPHRASE = os.getenv('PG_PRIVATE_PASSPHRASE', 'demo-private-passphrase')\n",
    "key.protect(PRIVATE_PASSPHRASE, SymmetricKeyAlgorithm.AES256, HashAlgorithm.SHA256)\n",
    "\n",
    "PUBLIC_KEY_TEXT = str(key.pubkey)\n",
    "PRIVATE_KEY_TEXT = str(key)\n",
    "print('สร้างคู่กุญแจเสร็จสิ้น (พร้อม subkey สำหรับเข้ารหัส)')\n"
   ]
  },
  {
   "cell_type": "markdown",
   "id": "51efb37b",
   "metadata": {},
   "source": [
    "## ตั้งค่าการเชื่อมต่อ และประกาศโมเดล ORM พร้อมชนิดข้อมูลเข้ารหัสแบบกุญแจสาธารณะ"
   ]
  },
  {
   "cell_type": "code",
   "execution_count": 3,
   "id": "1b7b89bc",
   "metadata": {},
   "outputs": [
    {
     "name": "stdout",
     "output_type": "stream",
     "text": [
      "สร้างตาราง customer_secret_pub_orm สำเร็จ\n"
     ]
    }
   ],
   "source": [
    "PG_HOST = os.getenv('PG_HOST', 'localhost')\n",
    "PG_PORT = int(os.getenv('PG_PORT', '5432'))\n",
    "PG_DB   = os.getenv('PG_DB', 'encdb')\n",
    "PG_USER = os.getenv('PG_USER', 'encuser')\n",
    "PG_PWD  = os.getenv('PG_PASSWORD', 'encpass')\n",
    "\n",
    "engine = create_engine(\n",
    "    f'postgresql+psycopg://{PG_USER}:{PG_PWD}@{PG_HOST}:{PG_PORT}/{PG_DB}',\n",
    "    future=True,\n",
    ")\n",
    "\n",
    "# เปิดใช้ส่วนขยาย pgcrypto หากยังไม่ได้เปิด\n",
    "with engine.begin() as conn:\n",
    "    conn.execute(text('CREATE EXTENSION IF NOT EXISTS pgcrypto;'))\n",
    "\n",
    "class Base(DeclarativeBase):\n",
    "    pass\n",
    "\n",
    "class PgPubEncryptedString(TypeDecorator):\n",
    "    impl = LargeBinary  # เก็บในฐานข้อมูลเป็น bytea\n",
    "    cache_ok = True\n",
    "\n",
    "    def __init__(self, public_key_text: str, private_key_text: str, private_passphrase: str | None = None):\n",
    "        super().__init__()\n",
    "        self.public_key_text = public_key_text\n",
    "        self.private_key_text = private_key_text\n",
    "        self.private_passphrase = private_passphrase\n",
    "\n",
    "    # ก่อนบันทึก: เข้ารหัสฝั่งฐานข้อมูลด้วยกุญแจสาธารณะ (ใช้ซิกเนเจอร์ data TEXT, key TEXT)\n",
    "    def bind_expression(self, bindvalue):\n",
    "        pubkey_txt = literal(self.public_key_text, Text())\n",
    "        return func.pgp_pub_encrypt(type_coerce(bindvalue, Text()), func.dearmor(pubkey_txt))\n",
    "\n",
    "    # ตอนอ่าน: ถอดรหัสฝั่งฐานข้อมูลด้วยกุญแจส่วนตัว (และ passphrase ถ้ามี)\n",
    "    def column_expression(self, col):\n",
    "        if self.private_passphrase:\n",
    "            privkey_txt = literal(self.private_key_text, Text())\n",
    "            pass_txt = literal(self.private_passphrase, Text())\n",
    "            return type_coerce(func.pgp_pub_decrypt(col, func.dearmor(privkey_txt), pass_txt), Text())\n",
    "        else:\n",
    "            privkey_txt = literal(self.private_key_text, Text())\n",
    "            return type_coerce(func.pgp_pub_decrypt(col, func.dearmor(privkey_txt)), Text())\n",
    "\n",
    "class CustomerSecretPubORM(Base):\n",
    "    __tablename__ = 'customer_secret_pub_orm'\n",
    "    id: Mapped[int] = mapped_column(primary_key=True, autoincrement=True)\n",
    "    full_name: Mapped[str] = mapped_column(Text, nullable=False)\n",
    "    national_id: Mapped[str] = mapped_column(\n",
    "        PgPubEncryptedString(PUBLIC_KEY_TEXT, PRIVATE_KEY_TEXT, PRIVATE_PASSPHRASE),\n",
    "        nullable=False\n",
    "    )\n",
    "\n",
    "# สร้างตารางใหม่เพื่อการทดสอบ (ลบทิ้งก่อน)\n",
    "with engine.begin() as conn:\n",
    "    conn.execute(text('DROP TABLE IF EXISTS customer_secret_pub_orm'))\n",
    "Base.metadata.create_all(engine)\n",
    "print('สร้างตาราง customer_secret_pub_orm สำเร็จ')\n"
   ]
  },
  {
   "cell_type": "markdown",
   "id": "f3a9d870",
   "metadata": {},
   "source": [
    "## แทรกข้อมูล (จะถูกเข้ารหัสด้วยกุญแจสาธารณะโดยอัตโนมัติ)"
   ]
  },
  {
   "cell_type": "code",
   "execution_count": 4,
   "id": "4131e57e",
   "metadata": {},
   "outputs": [
    {
     "name": "stdout",
     "output_type": "stream",
     "text": [
      "เพิ่มข้อมูลสำเร็จ (ถูกเข้ารหัสก่อนบันทึก)\n"
     ]
    }
   ],
   "source": [
    "samples = [\n",
    "    ('สมชาย ใจดี', '1101700200011'),\n",
    "    ('สมหญิง แข็งแรง', '1101700200022'),\n",
    "    ('สายฝน สายชล', '1101700200033'),\n",
    "]\n",
    "\n",
    "with Session(engine) as session:\n",
    "    session.add_all([CustomerSecretPubORM(full_name=n, national_id=i) for n, i in samples])\n",
    "    session.commit()\n",
    "print('เพิ่มข้อมูลสำเร็จ (ถูกเข้ารหัสก่อนบันทึก)')\n"
   ]
  },
  {
   "cell_type": "markdown",
   "metadata": {},
   "source": [
    "## อ่านข้อมูลแบบเข้ารหัส (ยังไม่ถอดรหัส)"
   ]
  },
  {
   "cell_type": "code",
   "execution_count": 5,
   "metadata": {},
   "outputs": [
    {
     "data": {
      "text/html": [
       "<div>\n",
       "<style scoped>\n",
       "    .dataframe tbody tr th:only-of-type {\n",
       "        vertical-align: middle;\n",
       "    }\n",
       "\n",
       "    .dataframe tbody tr th {\n",
       "        vertical-align: top;\n",
       "    }\n",
       "\n",
       "    .dataframe thead th {\n",
       "        text-align: right;\n",
       "    }\n",
       "</style>\n",
       "<table border=\"1\" class=\"dataframe\">\n",
       "  <thead>\n",
       "    <tr style=\"text-align: right;\">\n",
       "      <th></th>\n",
       "      <th>id</th>\n",
       "      <th>full_name</th>\n",
       "      <th>national_id_encrypted</th>\n",
       "      <th>ct_hex</th>\n",
       "      <th>ct_bytes</th>\n",
       "    </tr>\n",
       "  </thead>\n",
       "  <tbody>\n",
       "    <tr>\n",
       "      <th>0</th>\n",
       "      <td>1</td>\n",
       "      <td>สมชาย ใจดี</td>\n",
       "      <td>1101700200011</td>\n",
       "      <td>c1c04b03dd083ff1f431783c0107f8d82162cc851ce37c...</td>\n",
       "      <td>334</td>\n",
       "    </tr>\n",
       "    <tr>\n",
       "      <th>1</th>\n",
       "      <td>2</td>\n",
       "      <td>สมหญิง แข็งแรง</td>\n",
       "      <td>1101700200022</td>\n",
       "      <td>c1c04c03dd083ff1f431783c0107fe3777c7168353812a...</td>\n",
       "      <td>335</td>\n",
       "    </tr>\n",
       "    <tr>\n",
       "      <th>2</th>\n",
       "      <td>3</td>\n",
       "      <td>สายฝน สายชล</td>\n",
       "      <td>1101700200033</td>\n",
       "      <td>c1c04c03dd083ff1f431783c0107fe3ecd8e62ff15e4dc...</td>\n",
       "      <td>335</td>\n",
       "    </tr>\n",
       "  </tbody>\n",
       "</table>\n",
       "</div>"
      ],
      "text/plain": [
       "   id       full_name national_id_encrypted  \\\n",
       "0   1      สมชาย ใจดี         1101700200011   \n",
       "1   2  สมหญิง แข็งแรง         1101700200022   \n",
       "2   3     สายฝน สายชล         1101700200033   \n",
       "\n",
       "                                              ct_hex  ct_bytes  \n",
       "0  c1c04b03dd083ff1f431783c0107f8d82162cc851ce37c...       334  \n",
       "1  c1c04c03dd083ff1f431783c0107fe3777c7168353812a...       335  \n",
       "2  c1c04c03dd083ff1f431783c0107fe3ecd8e62ff15e4dc...       335  "
      ]
     },
     "execution_count": 5,
     "metadata": {},
     "output_type": "execute_result"
    }
   ],
   "source": [
    "# ใช้ SQL ดิบเพื่อหลีกเลี่ยง column_expression ของ TypeDecorator และดู ciphertext จริง\n",
    "with engine.begin() as conn:\n",
    "    rows = conn.execute(\n",
    "        text(\n",
    "            \"\"\"\n",
    "            SELECT\n",
    "                id,\n",
    "                full_name,\n",
    "                national_id AS national_id_encrypted,\n",
    "                encode(national_id, 'hex') AS ct_hex,\n",
    "                octet_length(national_id) AS ct_bytes\n",
    "            FROM customer_secret_pub_orm\n",
    "            ORDER BY id\n",
    "            \"\"\"\n",
    "        )\n",
    "    ).fetchall()\n",
    "pd.DataFrame(rows, columns=['id', 'full_name', 'national_id_encrypted', 'ct_hex', 'ct_bytes'])\n"
   ]
  },
  {
   "cell_type": "markdown",
   "metadata": {},
   "source": [
    "## อ่านข้อมูลแบบถอดรหัส (ผ่าน column_expression)"
   ]
  },
  {
   "cell_type": "code",
   "execution_count": 6,
   "metadata": {},
   "outputs": [
    {
     "data": {
      "text/html": [
       "<div>\n",
       "<style scoped>\n",
       "    .dataframe tbody tr th:only-of-type {\n",
       "        vertical-align: middle;\n",
       "    }\n",
       "\n",
       "    .dataframe tbody tr th {\n",
       "        vertical-align: top;\n",
       "    }\n",
       "\n",
       "    .dataframe thead th {\n",
       "        text-align: right;\n",
       "    }\n",
       "</style>\n",
       "<table border=\"1\" class=\"dataframe\">\n",
       "  <thead>\n",
       "    <tr style=\"text-align: right;\">\n",
       "      <th></th>\n",
       "      <th>id</th>\n",
       "      <th>full_name</th>\n",
       "      <th>national_id</th>\n",
       "    </tr>\n",
       "  </thead>\n",
       "  <tbody>\n",
       "    <tr>\n",
       "      <th>0</th>\n",
       "      <td>1</td>\n",
       "      <td>สมชาย ใจดี</td>\n",
       "      <td>1101700200011</td>\n",
       "    </tr>\n",
       "    <tr>\n",
       "      <th>1</th>\n",
       "      <td>2</td>\n",
       "      <td>สมหญิง แข็งแรง</td>\n",
       "      <td>1101700200022</td>\n",
       "    </tr>\n",
       "    <tr>\n",
       "      <th>2</th>\n",
       "      <td>3</td>\n",
       "      <td>สายฝน สายชล</td>\n",
       "      <td>1101700200033</td>\n",
       "    </tr>\n",
       "  </tbody>\n",
       "</table>\n",
       "</div>"
      ],
      "text/plain": [
       "   id       full_name    national_id\n",
       "0   1      สมชาย ใจดี  1101700200011\n",
       "1   2  สมหญิง แข็งแรง  1101700200022\n",
       "2   3     สายฝน สายชล  1101700200033"
      ]
     },
     "execution_count": 6,
     "metadata": {},
     "output_type": "execute_result"
    }
   ],
   "source": [
    "with Session(engine) as session:\n",
    "    result = session.execute(\n",
    "        select(CustomerSecretPubORM.id, CustomerSecretPubORM.full_name, CustomerSecretPubORM.national_id)\n",
    "        .order_by(CustomerSecretPubORM.id)\n",
    "    ).all()\n",
    "pd.DataFrame(result, columns=['id', 'full_name', 'national_id'])\n"
   ]
  },
  {
   "cell_type": "markdown",
   "metadata": {},
   "source": [
    "### หมายเหตุ\n",
    "- ตัวอย่างนี้สร้างกุญแจทุกครั้ง ข้อมูลที่เขียนด้วยกุญแจชุดนี้จะถอดไม่ได้หากเปลี่ยนกุญแจ\n",
    "- หากต้องการใช้งานจริง ให้สร้าง/เก็บกุญแจถาวร และกำหนดสิทธิ์เข้าถึงอย่างเหมาะสม\n",
    "- `pgp_pub_encrypt`/`pgp_pub_decrypt` เก็บข้อมูลเป็น `bytea` ในตาราง และไม่เหมาะกับการทำ index โดยตรง\n"
   ]
  }
 ],
 "metadata": {
  "kernelspec": {
   "display_name": ".venv (3.13.3)",
   "language": "python",
   "name": "python3"
  },
  "language_info": {
   "codemirror_mode": {
    "name": "ipython",
    "version": 3
   },
   "file_extension": ".py",
   "mimetype": "text/x-python",
   "name": "python",
   "nbconvert_exporter": "python",
   "pygments_lexer": "ipython3",
   "version": "3.13.3"
  }
 },
 "nbformat": 4,
 "nbformat_minor": 5
}