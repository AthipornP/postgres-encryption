{
 "cells": [
  {
   "cell_type": "markdown",
   "metadata": {},
   "source": [
    "# ทดสอบการเข้ารหัสแบบกุญแจสาธารณะ (pgp_pub_encrypt/pgp_pub_decrypt) ด้วย ORM\n",
    "\n",
    "โน้ตบุ๊กนี้สาธิตการใช้งาน `pgcrypto` แบบกุญแจสาธารณะร่วมกับ ORM (SQLAlchemy) โดย\n",
    "- สร้างกุญแจสาธารณะ/กุญแจส่วนตัว (OpenPGP) ด้วยไลบรารี `pgpy` ใน Python\n",
    "- บันทึกข้อมูลด้วยการเข้ารหัสที่ฝั่งฐานข้อมูล: `pgp_pub_encrypt(data, public_key)`\n",
    "- อ่านข้อมูลด้วยการถอดรหัสที่ฝั่งฐานข้อมูล: `pgp_pub_decrypt(cipher, private_key[, passphrase])`\n",
    "\n",
    "คำเตือน: ตัวอย่างนี้สร้างกุญแจใหม่ทุกครั้งเพื่อการสาธิต — ข้อมูลที่เข้ารหัสด้วยกุญแจชุดหนึ่งจะถอดไม่ได้หากสูญเสียกุญแจส่วนตัวของชุดนั้น\n"
   ]
  },
  {
   "cell_type": "markdown",
   "metadata": {},
   "source": [
    "## เตรียมสภาพแวดล้อม\n",
    "- รัน `docker-compose up -d` เพื่อเริ่มฐานข้อมูล (เปิด `pgcrypto` อัตโนมัติ)\n",
    "- แนะนำให้เปิดใช้งาน venv และติดตั้งไลบรารีใน `requirements.txt`\n",
    "- หากยังไม่ได้ติดตั้ง สามารถใช้เซลล์ pip ด้านล่างนี้ (ชั่วคราว)"
   ]
  },
  {
   "cell_type": "code",
   "execution_count": 5,
   "id": "f0a432d0",
   "metadata": {},
   "outputs": [],
   "source": [
    "# ติดตั้งไลบรารีที่จำเป็น (ข้ามได้ถ้าติดตั้งแล้ว)\n",
    "# !pip install -q \"psycopg[binary]>=3.1\" SQLAlchemy>=2.0 pandas pgpy>=0.5\n"
   ]
  },
  {
   "cell_type": "markdown",
   "id": "adbb370c",
   "metadata": {},
   "source": [
    "## สร้างกุญแจสาธารณะ/ส่วนตัว (OpenPGP) ด้วย pgpy\n",
    "- เพื่อการสาธิตเราจะสร้างกุญแจใหม่ในหน่วยความจำทุกครั้ง\n",
    "- หากต้องการใช้กุญแจถาวร ควรจัดเก็บไว้ (เช่น ไฟล์/Secret Manager) และกำหนดรหัสผ่านที่รัดกุม"
   ]
  },
  {
   "cell_type": "code",
   "execution_count": 6,
   "id": "5d05289e",
   "metadata": {},
   "outputs": [
    {
     "name": "stdout",
     "output_type": "stream",
     "text": [
      "สร้างคู่กุญแจเสร็จสิ้น\n"
     ]
    }
   ],
   "source": [
    "import os, sys, types, datetime\n",
    "import pandas as pd\n",
    "from sqlalchemy import create_engine, Text, LargeBinary, func, text, select, type_coerce, literal\n",
    "from sqlalchemy.orm import DeclarativeBase, Mapped, mapped_column, Session\n",
    "from sqlalchemy.types import TypeDecorator\n",
    "\n",
    "# NOTE: Python 3.13 ได้ลบโมดูลมาตรฐาน `imghdr` ออก ทำให้ `pgpy` import ไม่ได้\n",
    "# เพื่อการสาธิต เราสร้าง shim โมดูล `imghdr` อย่างง่ายที่มีฟังก์ชัน what() เพียงพอ\n",
    "imghdr_shim = types.ModuleType('imghdr')\n",
    "def _imghdr_what(file, h=None):\n",
    "    return None  # ไม่จำเป็นต้องตรวจชนิดรูปภาพในตัวอย่างนี้\n",
    "imghdr_shim.what = _imghdr_what\n",
    "sys.modules['imghdr'] = imghdr_shim\n",
    "\n",
    "import pgpy\n",
    "from pgpy.constants import PubKeyAlgorithm, KeyFlags, HashAlgorithm, SymmetricKeyAlgorithm, CompressionAlgorithm\n",
    "\n",
    "# สร้างกุญแจใหม่ (เพื่อสาธิต)\n",
    "uid = pgpy.PGPUID.new('Demo User', comment='PGP Demo', email='demo@example.com')\n",
    "key = pgpy.PGPKey.new(PubKeyAlgorithm.RSAEncryptOrSign, 2048)\n",
    "key.add_uid(uid,\n",
    "           usage={KeyFlags.EncryptCommunications, KeyFlags.EncryptStorage},\n",
    "           hashes=[HashAlgorithm.SHA256],\n",
    "           ciphers=[SymmetricKeyAlgorithm.AES256],\n",
    "           compression=[CompressionAlgorithm.ZLIB])\n",
    "\n",
    "# ป้องกันกุญแจส่วนตัวด้วยรหัสผ่านสำหรับสาธิต\n",
    "PRIVATE_PASSPHRASE = os.getenv('PG_PRIVATE_PASSPHRASE', 'demo-private-passphrase')\n",
    "key.protect(PRIVATE_PASSPHRASE, SymmetricKeyAlgorithm.AES256, HashAlgorithm.SHA256)\n",
    "\n",
    "PUBLIC_KEY_TEXT = str(key.pubkey)\n",
    "PRIVATE_KEY_TEXT = str(key)\n",
    "print('สร้างคู่กุญแจเสร็จสิ้น')\n"
   ]
  },
  {
   "cell_type": "markdown",
   "id": "51efb37b",
   "metadata": {},
   "source": [
    "## ตั้งค่าการเชื่อมต่อ และประกาศโมเดล ORM พร้อมชนิดข้อมูลเข้ารหัสแบบกุญแจสาธารณะ"
   ]
  },
  {
   "cell_type": "code",
   "execution_count": 7,
   "id": "1b7b89bc",
   "metadata": {},
   "outputs": [
    {
     "name": "stdout",
     "output_type": "stream",
     "text": [
      "สร้างตาราง customer_secret_pub_orm สำเร็จ\n"
     ]
    }
   ],
   "source": [
    "PG_HOST = os.getenv('PG_HOST', 'localhost')\n",
    "PG_PORT = int(os.getenv('PG_PORT', '5432'))\n",
    "PG_DB   = os.getenv('PG_DB', 'encdb')\n",
    "PG_USER = os.getenv('PG_USER', 'encuser')\n",
    "PG_PWD  = os.getenv('PG_PASSWORD', 'encpass')\n",
    "\n",
    "engine = create_engine(\n",
    "    f'postgresql+psycopg://{PG_USER}:{PG_PWD}@{PG_HOST}:{PG_PORT}/{PG_DB}',\n",
    "    future=True,\n",
    ")\n",
    "\n",
    "# เปิดใช้ส่วนขยาย pgcrypto หากยังไม่ได้เปิด\n",
    "with engine.begin() as conn:\n",
    "    conn.execute(text('CREATE EXTENSION IF NOT EXISTS pgcrypto;'))\n",
    "\n",
    "class Base(DeclarativeBase):\n",
    "    pass\n",
    "\n",
    "class PgPubEncryptedString(TypeDecorator):\n",
    "    impl = LargeBinary  # เก็บในฐานข้อมูลเป็น bytea\n",
    "    cache_ok = True\n",
    "\n",
    "    def __init__(self, public_key_text: str, private_key_text: str, private_passphrase: str | None = None):\n",
    "        super().__init__()\n",
    "        self.public_key_text = public_key_text\n",
    "        self.private_key_text = private_key_text\n",
    "        self.private_passphrase = private_passphrase\n",
    "\n",
    "    # ก่อนบันทึก: เข้ารหัสฝั่งฐานข้อมูลด้วยกุญแจสาธารณะ (ใช้ซิกเนเจอร์ data TEXT, key TEXT)\n",
    "    def bind_expression(self, bindvalue):\n",
    "        pubkey_txt = literal(self.public_key_text, Text())\n",
    "        return func.pgp_pub_encrypt(type_coerce(bindvalue, Text()), func.dearmor(pubkey_txt))\n",
    "\n",
    "    # ตอนอ่าน: ถอดรหัสฝั่งฐานข้อมูลด้วยกุญแจส่วนตัว (และ passphrase ถ้ามี)\n",
    "    def column_expression(self, col):\n",
    "        if self.private_passphrase:\n",
    "            privkey_txt = literal(self.private_key_text, Text())\n",
    "            pass_txt = literal(self.private_passphrase, Text())\n",
    "            return type_coerce(func.pgp_pub_decrypt(col, func.dearmor(privkey_txt), pass_txt), Text())\n",
    "        else:\n",
    "            privkey_txt = literal(self.private_key_text, Text())\n",
    "            return type_coerce(func.pgp_pub_decrypt(col, func.dearmor(privkey_txt)), Text())\n",
    "\n",
    "class CustomerSecretPubORM(Base):\n",
    "    __tablename__ = 'customer_secret_pub_orm'\n",
    "    id: Mapped[int] = mapped_column(primary_key=True, autoincrement=True)\n",
    "    full_name: Mapped[str] = mapped_column(Text, nullable=False)\n",
    "    national_id: Mapped[str] = mapped_column(\n",
    "        PgPubEncryptedString(PUBLIC_KEY_TEXT, PRIVATE_KEY_TEXT, PRIVATE_PASSPHRASE),\n",
    "        nullable=False\n",
    "    )\n",
    "\n",
    "# สร้างตารางใหม่เพื่อการทดสอบ (ลบทิ้งก่อน)\n",
    "with engine.begin() as conn:\n",
    "    conn.execute(text('DROP TABLE IF EXISTS customer_secret_pub_orm'))\n",
    "Base.metadata.create_all(engine)\n",
    "print('สร้างตาราง customer_secret_pub_orm สำเร็จ')\n"
   ]
  },
  {
   "cell_type": "markdown",
   "id": "f3a9d870",
   "metadata": {},
   "source": [
    "## แทรกข้อมูล (จะถูกเข้ารหัสด้วยกุญแจสาธารณะโดยอัตโนมัติ)"
   ]
  },
  {
   "cell_type": "code",
   "execution_count": 8,
   "id": "4131e57e",
   "metadata": {},
   "outputs": [
    {
     "ename": "ProgrammingError",
     "evalue": "(psycopg.errors.UndefinedFunction) function pgp_pub_encrypt(character varying, character varying) does not exist\nLINE 1: ...p0::VARCHAR, p1::BYTEA FROM (VALUES ($1::VARCHAR, pgp_pub_en...\n                                                             ^\nHINT:  No function matches the given name and argument types. You might need to add explicit type casts.\n[SQL: INSERT INTO customer_secret_pub_orm (full_name, national_id) SELECT p0::VARCHAR, p1::BYTEA FROM (VALUES (%(full_name__0)s::VARCHAR, pgp_pub_encrypt(%(national_id__0)s::VARCHAR, %(param_1__0)s::VARCHAR), 0), (%(full_name__1)s::VARCHAR, pgp_pub_encrypt ... 189 characters truncated ... nter) ORDER BY sen_counter RETURNING customer_secret_pub_orm.id, customer_secret_pub_orm.id AS id__1]\n[parameters: {'param_1__0': '-----BEGIN PGP PUBLIC KEY BLOCK-----\\n\\nxsBNBGj3SJcBCADJkbHP8hVGEmEes8WvBC/8L3Wy2mJcop/ZLnYhiCxCWwePJCyG\\noTQXTxgnGZTHUfOWYmwqDeL5AQlUlLpXpJT4dqpOfCV ... (665 characters truncated) ... nA6XobRxvep6zb12\\n/fCV31nMSSyY6JOA3Kn6iQPHsfea62rvDTk9/nmpl1pi42pAgXkMQPwGj27TzSlS\\nYHciB14a9QUblUW9pYQ=\\n=p0mH\\n-----END PGP PUBLIC KEY BLOCK-----\\n', 'national_id__0': '1101700200011', 'full_name__0': 'สมชาย ใจดี', 'param_1__1': '-----BEGIN PGP PUBLIC KEY BLOCK-----\\n\\nxsBNBGj3SJcBCADJkbHP8hVGEmEes8WvBC/8L3Wy2mJcop/ZLnYhiCxCWwePJCyG\\noTQXTxgnGZTHUfOWYmwqDeL5AQlUlLpXpJT4dqpOfCV ... (665 characters truncated) ... nA6XobRxvep6zb12\\n/fCV31nMSSyY6JOA3Kn6iQPHsfea62rvDTk9/nmpl1pi42pAgXkMQPwGj27TzSlS\\nYHciB14a9QUblUW9pYQ=\\n=p0mH\\n-----END PGP PUBLIC KEY BLOCK-----\\n', 'national_id__1': '1101700200022', 'full_name__1': 'สมหญิง แข็งแรง', 'param_1__2': '-----BEGIN PGP PUBLIC KEY BLOCK-----\\n\\nxsBNBGj3SJcBCADJkbHP8hVGEmEes8WvBC/8L3Wy2mJcop/ZLnYhiCxCWwePJCyG\\noTQXTxgnGZTHUfOWYmwqDeL5AQlUlLpXpJT4dqpOfCV ... (665 characters truncated) ... nA6XobRxvep6zb12\\n/fCV31nMSSyY6JOA3Kn6iQPHsfea62rvDTk9/nmpl1pi42pAgXkMQPwGj27TzSlS\\nYHciB14a9QUblUW9pYQ=\\n=p0mH\\n-----END PGP PUBLIC KEY BLOCK-----\\n', 'national_id__2': '1101700200033', 'full_name__2': 'สายฝน สายชล'}]\n(Background on this error at: https://sqlalche.me/e/20/f405)",
     "output_type": "error",
     "traceback": [
      "\u001b[31m---------------------------------------------------------------------------\u001b[39m",
      "\u001b[31mUndefinedFunction\u001b[39m                         Traceback (most recent call last)",
      "\u001b[36mFile \u001b[39m\u001b[32md:\\source\\repos\\postgres-encryption\\.venv\\Lib\\site-packages\\sqlalchemy\\engine\\base.py:2118\u001b[39m, in \u001b[36mConnection._exec_insertmany_context\u001b[39m\u001b[34m(self, dialect, context)\u001b[39m\n\u001b[32m   2117\u001b[39m     \u001b[38;5;28;01melse\u001b[39;00m:\n\u001b[32m-> \u001b[39m\u001b[32m2118\u001b[39m         \u001b[43mdialect\u001b[49m\u001b[43m.\u001b[49m\u001b[43mdo_execute\u001b[49m\u001b[43m(\u001b[49m\n\u001b[32m   2119\u001b[39m \u001b[43m            \u001b[49m\u001b[43mcursor\u001b[49m\u001b[43m,\u001b[49m\n\u001b[32m   2120\u001b[39m \u001b[43m            \u001b[49m\u001b[43msub_stmt\u001b[49m\u001b[43m,\u001b[49m\n\u001b[32m   2121\u001b[39m \u001b[43m            \u001b[49m\u001b[43msub_params\u001b[49m\u001b[43m,\u001b[49m\n\u001b[32m   2122\u001b[39m \u001b[43m            \u001b[49m\u001b[43mcontext\u001b[49m\u001b[43m,\u001b[49m\n\u001b[32m   2123\u001b[39m \u001b[43m        \u001b[49m\u001b[43m)\u001b[49m\n\u001b[32m   2125\u001b[39m \u001b[38;5;28;01mexcept\u001b[39;00m \u001b[38;5;167;01mBaseException\u001b[39;00m \u001b[38;5;28;01mas\u001b[39;00m e:\n",
      "\u001b[36mFile \u001b[39m\u001b[32md:\\source\\repos\\postgres-encryption\\.venv\\Lib\\site-packages\\sqlalchemy\\engine\\default.py:951\u001b[39m, in \u001b[36mDefaultDialect.do_execute\u001b[39m\u001b[34m(self, cursor, statement, parameters, context)\u001b[39m\n\u001b[32m    950\u001b[39m \u001b[38;5;28;01mdef\u001b[39;00m\u001b[38;5;250m \u001b[39m\u001b[34mdo_execute\u001b[39m(\u001b[38;5;28mself\u001b[39m, cursor, statement, parameters, context=\u001b[38;5;28;01mNone\u001b[39;00m):\n\u001b[32m--> \u001b[39m\u001b[32m951\u001b[39m     \u001b[43mcursor\u001b[49m\u001b[43m.\u001b[49m\u001b[43mexecute\u001b[49m\u001b[43m(\u001b[49m\u001b[43mstatement\u001b[49m\u001b[43m,\u001b[49m\u001b[43m \u001b[49m\u001b[43mparameters\u001b[49m\u001b[43m)\u001b[49m\n",
      "\u001b[36mFile \u001b[39m\u001b[32md:\\source\\repos\\postgres-encryption\\.venv\\Lib\\site-packages\\psycopg\\cursor.py:97\u001b[39m, in \u001b[36mCursor.execute\u001b[39m\u001b[34m(self, query, params, prepare, binary)\u001b[39m\n\u001b[32m     96\u001b[39m \u001b[38;5;28;01mexcept\u001b[39;00m e._NO_TRACEBACK \u001b[38;5;28;01mas\u001b[39;00m ex:\n\u001b[32m---> \u001b[39m\u001b[32m97\u001b[39m     \u001b[38;5;28;01mraise\u001b[39;00m ex.with_traceback(\u001b[38;5;28;01mNone\u001b[39;00m)\n\u001b[32m     98\u001b[39m \u001b[38;5;28;01mreturn\u001b[39;00m \u001b[38;5;28mself\u001b[39m\n",
      "\u001b[31mUndefinedFunction\u001b[39m: function pgp_pub_encrypt(character varying, character varying) does not exist\nLINE 1: ...p0::VARCHAR, p1::BYTEA FROM (VALUES ($1::VARCHAR, pgp_pub_en...\n                                                             ^\nHINT:  No function matches the given name and argument types. You might need to add explicit type casts.",
      "\nThe above exception was the direct cause of the following exception:\n",
      "\u001b[31mProgrammingError\u001b[39m                          Traceback (most recent call last)",
      "\u001b[36mCell\u001b[39m\u001b[36m \u001b[39m\u001b[32mIn[8]\u001b[39m\u001b[32m, line 9\u001b[39m\n\u001b[32m      7\u001b[39m \u001b[38;5;28;01mwith\u001b[39;00m Session(engine) \u001b[38;5;28;01mas\u001b[39;00m session:\n\u001b[32m      8\u001b[39m     session.add_all([CustomerSecretPubORM(full_name=n, national_id=i) \u001b[38;5;28;01mfor\u001b[39;00m n, i \u001b[38;5;129;01min\u001b[39;00m samples])\n\u001b[32m----> \u001b[39m\u001b[32m9\u001b[39m     \u001b[43msession\u001b[49m\u001b[43m.\u001b[49m\u001b[43mcommit\u001b[49m\u001b[43m(\u001b[49m\u001b[43m)\u001b[49m\n\u001b[32m     10\u001b[39m \u001b[38;5;28mprint\u001b[39m(\u001b[33m'\u001b[39m\u001b[33mเพิ่มข้อมูลสำเร็จ (ถูกเข้ารหัสก่อนบันทึก)\u001b[39m\u001b[33m'\u001b[39m)\n",
      "\u001b[36mFile \u001b[39m\u001b[32md:\\source\\repos\\postgres-encryption\\.venv\\Lib\\site-packages\\sqlalchemy\\orm\\session.py:2030\u001b[39m, in \u001b[36mSession.commit\u001b[39m\u001b[34m(self)\u001b[39m\n\u001b[32m   2027\u001b[39m \u001b[38;5;28;01mif\u001b[39;00m trans \u001b[38;5;129;01mis\u001b[39;00m \u001b[38;5;28;01mNone\u001b[39;00m:\n\u001b[32m   2028\u001b[39m     trans = \u001b[38;5;28mself\u001b[39m._autobegin_t()\n\u001b[32m-> \u001b[39m\u001b[32m2030\u001b[39m \u001b[43mtrans\u001b[49m\u001b[43m.\u001b[49m\u001b[43mcommit\u001b[49m\u001b[43m(\u001b[49m\u001b[43m_to_root\u001b[49m\u001b[43m=\u001b[49m\u001b[38;5;28;43;01mTrue\u001b[39;49;00m\u001b[43m)\u001b[49m\n",
      "\u001b[36mFile \u001b[39m\u001b[32m<string>:2\u001b[39m, in \u001b[36mcommit\u001b[39m\u001b[34m(self, _to_root)\u001b[39m\n",
      "\u001b[36mFile \u001b[39m\u001b[32md:\\source\\repos\\postgres-encryption\\.venv\\Lib\\site-packages\\sqlalchemy\\orm\\state_changes.py:137\u001b[39m, in \u001b[36m_StateChange.declare_states.<locals>._go\u001b[39m\u001b[34m(fn, self, *arg, **kw)\u001b[39m\n\u001b[32m    135\u001b[39m \u001b[38;5;28mself\u001b[39m._next_state = _StateChangeStates.CHANGE_IN_PROGRESS\n\u001b[32m    136\u001b[39m \u001b[38;5;28;01mtry\u001b[39;00m:\n\u001b[32m--> \u001b[39m\u001b[32m137\u001b[39m     ret_value = \u001b[43mfn\u001b[49m\u001b[43m(\u001b[49m\u001b[38;5;28;43mself\u001b[39;49m\u001b[43m,\u001b[49m\u001b[43m \u001b[49m\u001b[43m*\u001b[49m\u001b[43marg\u001b[49m\u001b[43m,\u001b[49m\u001b[43m \u001b[49m\u001b[43m*\u001b[49m\u001b[43m*\u001b[49m\u001b[43mkw\u001b[49m\u001b[43m)\u001b[49m\n\u001b[32m    138\u001b[39m \u001b[38;5;28;01mexcept\u001b[39;00m:\n\u001b[32m    139\u001b[39m     \u001b[38;5;28;01mraise\u001b[39;00m\n",
      "\u001b[36mFile \u001b[39m\u001b[32md:\\source\\repos\\postgres-encryption\\.venv\\Lib\\site-packages\\sqlalchemy\\orm\\session.py:1311\u001b[39m, in \u001b[36mSessionTransaction.commit\u001b[39m\u001b[34m(self, _to_root)\u001b[39m\n\u001b[32m   1309\u001b[39m \u001b[38;5;28;01mif\u001b[39;00m \u001b[38;5;28mself\u001b[39m._state \u001b[38;5;129;01mis\u001b[39;00m \u001b[38;5;129;01mnot\u001b[39;00m SessionTransactionState.PREPARED:\n\u001b[32m   1310\u001b[39m     \u001b[38;5;28;01mwith\u001b[39;00m \u001b[38;5;28mself\u001b[39m._expect_state(SessionTransactionState.PREPARED):\n\u001b[32m-> \u001b[39m\u001b[32m1311\u001b[39m         \u001b[38;5;28;43mself\u001b[39;49m\u001b[43m.\u001b[49m\u001b[43m_prepare_impl\u001b[49m\u001b[43m(\u001b[49m\u001b[43m)\u001b[49m\n\u001b[32m   1313\u001b[39m \u001b[38;5;28;01mif\u001b[39;00m \u001b[38;5;28mself\u001b[39m._parent \u001b[38;5;129;01mis\u001b[39;00m \u001b[38;5;28;01mNone\u001b[39;00m \u001b[38;5;129;01mor\u001b[39;00m \u001b[38;5;28mself\u001b[39m.nested:\n\u001b[32m   1314\u001b[39m     \u001b[38;5;28;01mfor\u001b[39;00m conn, trans, should_commit, autoclose \u001b[38;5;129;01min\u001b[39;00m \u001b[38;5;28mset\u001b[39m(\n\u001b[32m   1315\u001b[39m         \u001b[38;5;28mself\u001b[39m._connections.values()\n\u001b[32m   1316\u001b[39m     ):\n",
      "\u001b[36mFile \u001b[39m\u001b[32m<string>:2\u001b[39m, in \u001b[36m_prepare_impl\u001b[39m\u001b[34m(self)\u001b[39m\n",
      "\u001b[36mFile \u001b[39m\u001b[32md:\\source\\repos\\postgres-encryption\\.venv\\Lib\\site-packages\\sqlalchemy\\orm\\state_changes.py:137\u001b[39m, in \u001b[36m_StateChange.declare_states.<locals>._go\u001b[39m\u001b[34m(fn, self, *arg, **kw)\u001b[39m\n\u001b[32m    135\u001b[39m \u001b[38;5;28mself\u001b[39m._next_state = _StateChangeStates.CHANGE_IN_PROGRESS\n\u001b[32m    136\u001b[39m \u001b[38;5;28;01mtry\u001b[39;00m:\n\u001b[32m--> \u001b[39m\u001b[32m137\u001b[39m     ret_value = \u001b[43mfn\u001b[49m\u001b[43m(\u001b[49m\u001b[38;5;28;43mself\u001b[39;49m\u001b[43m,\u001b[49m\u001b[43m \u001b[49m\u001b[43m*\u001b[49m\u001b[43marg\u001b[49m\u001b[43m,\u001b[49m\u001b[43m \u001b[49m\u001b[43m*\u001b[49m\u001b[43m*\u001b[49m\u001b[43mkw\u001b[49m\u001b[43m)\u001b[49m\n\u001b[32m    138\u001b[39m \u001b[38;5;28;01mexcept\u001b[39;00m:\n\u001b[32m    139\u001b[39m     \u001b[38;5;28;01mraise\u001b[39;00m\n",
      "\u001b[36mFile \u001b[39m\u001b[32md:\\source\\repos\\postgres-encryption\\.venv\\Lib\\site-packages\\sqlalchemy\\orm\\session.py:1286\u001b[39m, in \u001b[36mSessionTransaction._prepare_impl\u001b[39m\u001b[34m(self)\u001b[39m\n\u001b[32m   1284\u001b[39m     \u001b[38;5;28;01mif\u001b[39;00m \u001b[38;5;28mself\u001b[39m.session._is_clean():\n\u001b[32m   1285\u001b[39m         \u001b[38;5;28;01mbreak\u001b[39;00m\n\u001b[32m-> \u001b[39m\u001b[32m1286\u001b[39m     \u001b[38;5;28;43mself\u001b[39;49m\u001b[43m.\u001b[49m\u001b[43msession\u001b[49m\u001b[43m.\u001b[49m\u001b[43mflush\u001b[49m\u001b[43m(\u001b[49m\u001b[43m)\u001b[49m\n\u001b[32m   1287\u001b[39m \u001b[38;5;28;01melse\u001b[39;00m:\n\u001b[32m   1288\u001b[39m     \u001b[38;5;28;01mraise\u001b[39;00m exc.FlushError(\n\u001b[32m   1289\u001b[39m         \u001b[33m\"\u001b[39m\u001b[33mOver 100 subsequent flushes have occurred within \u001b[39m\u001b[33m\"\u001b[39m\n\u001b[32m   1290\u001b[39m         \u001b[33m\"\u001b[39m\u001b[33msession.commit() - is an after_flush() hook \u001b[39m\u001b[33m\"\u001b[39m\n\u001b[32m   1291\u001b[39m         \u001b[33m\"\u001b[39m\u001b[33mcreating new objects?\u001b[39m\u001b[33m\"\u001b[39m\n\u001b[32m   1292\u001b[39m     )\n",
      "\u001b[36mFile \u001b[39m\u001b[32md:\\source\\repos\\postgres-encryption\\.venv\\Lib\\site-packages\\sqlalchemy\\orm\\session.py:4331\u001b[39m, in \u001b[36mSession.flush\u001b[39m\u001b[34m(self, objects)\u001b[39m\n\u001b[32m   4329\u001b[39m \u001b[38;5;28;01mtry\u001b[39;00m:\n\u001b[32m   4330\u001b[39m     \u001b[38;5;28mself\u001b[39m._flushing = \u001b[38;5;28;01mTrue\u001b[39;00m\n\u001b[32m-> \u001b[39m\u001b[32m4331\u001b[39m     \u001b[38;5;28;43mself\u001b[39;49m\u001b[43m.\u001b[49m\u001b[43m_flush\u001b[49m\u001b[43m(\u001b[49m\u001b[43mobjects\u001b[49m\u001b[43m)\u001b[49m\n\u001b[32m   4332\u001b[39m \u001b[38;5;28;01mfinally\u001b[39;00m:\n\u001b[32m   4333\u001b[39m     \u001b[38;5;28mself\u001b[39m._flushing = \u001b[38;5;28;01mFalse\u001b[39;00m\n",
      "\u001b[36mFile \u001b[39m\u001b[32md:\\source\\repos\\postgres-encryption\\.venv\\Lib\\site-packages\\sqlalchemy\\orm\\session.py:4466\u001b[39m, in \u001b[36mSession._flush\u001b[39m\u001b[34m(self, objects)\u001b[39m\n\u001b[32m   4463\u001b[39m     transaction.commit()\n\u001b[32m   4465\u001b[39m \u001b[38;5;28;01mexcept\u001b[39;00m:\n\u001b[32m-> \u001b[39m\u001b[32m4466\u001b[39m \u001b[43m    \u001b[49m\u001b[38;5;28;43;01mwith\u001b[39;49;00m\u001b[43m \u001b[49m\u001b[43mutil\u001b[49m\u001b[43m.\u001b[49m\u001b[43msafe_reraise\u001b[49m\u001b[43m(\u001b[49m\u001b[43m)\u001b[49m\u001b[43m:\u001b[49m\n\u001b[32m   4467\u001b[39m \u001b[43m        \u001b[49m\u001b[43mtransaction\u001b[49m\u001b[43m.\u001b[49m\u001b[43mrollback\u001b[49m\u001b[43m(\u001b[49m\u001b[43m_capture_exception\u001b[49m\u001b[43m=\u001b[49m\u001b[38;5;28;43;01mTrue\u001b[39;49;00m\u001b[43m)\u001b[49m\n",
      "\u001b[36mFile \u001b[39m\u001b[32md:\\source\\repos\\postgres-encryption\\.venv\\Lib\\site-packages\\sqlalchemy\\util\\langhelpers.py:224\u001b[39m, in \u001b[36msafe_reraise.__exit__\u001b[39m\u001b[34m(self, type_, value, traceback)\u001b[39m\n\u001b[32m    222\u001b[39m     \u001b[38;5;28;01massert\u001b[39;00m exc_value \u001b[38;5;129;01mis\u001b[39;00m \u001b[38;5;129;01mnot\u001b[39;00m \u001b[38;5;28;01mNone\u001b[39;00m\n\u001b[32m    223\u001b[39m     \u001b[38;5;28mself\u001b[39m._exc_info = \u001b[38;5;28;01mNone\u001b[39;00m  \u001b[38;5;66;03m# remove potential circular references\u001b[39;00m\n\u001b[32m--> \u001b[39m\u001b[32m224\u001b[39m     \u001b[38;5;28;01mraise\u001b[39;00m exc_value.with_traceback(exc_tb)\n\u001b[32m    225\u001b[39m \u001b[38;5;28;01melse\u001b[39;00m:\n\u001b[32m    226\u001b[39m     \u001b[38;5;28mself\u001b[39m._exc_info = \u001b[38;5;28;01mNone\u001b[39;00m  \u001b[38;5;66;03m# remove potential circular references\u001b[39;00m\n",
      "\u001b[36mFile \u001b[39m\u001b[32md:\\source\\repos\\postgres-encryption\\.venv\\Lib\\site-packages\\sqlalchemy\\orm\\session.py:4427\u001b[39m, in \u001b[36mSession._flush\u001b[39m\u001b[34m(self, objects)\u001b[39m\n\u001b[32m   4425\u001b[39m \u001b[38;5;28mself\u001b[39m._warn_on_events = \u001b[38;5;28;01mTrue\u001b[39;00m\n\u001b[32m   4426\u001b[39m \u001b[38;5;28;01mtry\u001b[39;00m:\n\u001b[32m-> \u001b[39m\u001b[32m4427\u001b[39m     \u001b[43mflush_context\u001b[49m\u001b[43m.\u001b[49m\u001b[43mexecute\u001b[49m\u001b[43m(\u001b[49m\u001b[43m)\u001b[49m\n\u001b[32m   4428\u001b[39m \u001b[38;5;28;01mfinally\u001b[39;00m:\n\u001b[32m   4429\u001b[39m     \u001b[38;5;28mself\u001b[39m._warn_on_events = \u001b[38;5;28;01mFalse\u001b[39;00m\n",
      "\u001b[36mFile \u001b[39m\u001b[32md:\\source\\repos\\postgres-encryption\\.venv\\Lib\\site-packages\\sqlalchemy\\orm\\unitofwork.py:466\u001b[39m, in \u001b[36mUOWTransaction.execute\u001b[39m\u001b[34m(self)\u001b[39m\n\u001b[32m    464\u001b[39m \u001b[38;5;28;01melse\u001b[39;00m:\n\u001b[32m    465\u001b[39m     \u001b[38;5;28;01mfor\u001b[39;00m rec \u001b[38;5;129;01min\u001b[39;00m topological.sort(\u001b[38;5;28mself\u001b[39m.dependencies, postsort_actions):\n\u001b[32m--> \u001b[39m\u001b[32m466\u001b[39m         \u001b[43mrec\u001b[49m\u001b[43m.\u001b[49m\u001b[43mexecute\u001b[49m\u001b[43m(\u001b[49m\u001b[38;5;28;43mself\u001b[39;49m\u001b[43m)\u001b[49m\n",
      "\u001b[36mFile \u001b[39m\u001b[32md:\\source\\repos\\postgres-encryption\\.venv\\Lib\\site-packages\\sqlalchemy\\orm\\unitofwork.py:642\u001b[39m, in \u001b[36mSaveUpdateAll.execute\u001b[39m\u001b[34m(self, uow)\u001b[39m\n\u001b[32m    640\u001b[39m \u001b[38;5;129m@util\u001b[39m.preload_module(\u001b[33m\"\u001b[39m\u001b[33msqlalchemy.orm.persistence\u001b[39m\u001b[33m\"\u001b[39m)\n\u001b[32m    641\u001b[39m \u001b[38;5;28;01mdef\u001b[39;00m\u001b[38;5;250m \u001b[39m\u001b[34mexecute\u001b[39m(\u001b[38;5;28mself\u001b[39m, uow):\n\u001b[32m--> \u001b[39m\u001b[32m642\u001b[39m     \u001b[43mutil\u001b[49m\u001b[43m.\u001b[49m\u001b[43mpreloaded\u001b[49m\u001b[43m.\u001b[49m\u001b[43morm_persistence\u001b[49m\u001b[43m.\u001b[49m\u001b[43msave_obj\u001b[49m\u001b[43m(\u001b[49m\n\u001b[32m    643\u001b[39m \u001b[43m        \u001b[49m\u001b[38;5;28;43mself\u001b[39;49m\u001b[43m.\u001b[49m\u001b[43mmapper\u001b[49m\u001b[43m,\u001b[49m\n\u001b[32m    644\u001b[39m \u001b[43m        \u001b[49m\u001b[43muow\u001b[49m\u001b[43m.\u001b[49m\u001b[43mstates_for_mapper_hierarchy\u001b[49m\u001b[43m(\u001b[49m\u001b[38;5;28;43mself\u001b[39;49m\u001b[43m.\u001b[49m\u001b[43mmapper\u001b[49m\u001b[43m,\u001b[49m\u001b[43m \u001b[49m\u001b[38;5;28;43;01mFalse\u001b[39;49;00m\u001b[43m,\u001b[49m\u001b[43m \u001b[49m\u001b[38;5;28;43;01mFalse\u001b[39;49;00m\u001b[43m)\u001b[49m\u001b[43m,\u001b[49m\n\u001b[32m    645\u001b[39m \u001b[43m        \u001b[49m\u001b[43muow\u001b[49m\u001b[43m,\u001b[49m\n\u001b[32m    646\u001b[39m \u001b[43m    \u001b[49m\u001b[43m)\u001b[49m\n",
      "\u001b[36mFile \u001b[39m\u001b[32md:\\source\\repos\\postgres-encryption\\.venv\\Lib\\site-packages\\sqlalchemy\\orm\\persistence.py:93\u001b[39m, in \u001b[36msave_obj\u001b[39m\u001b[34m(base_mapper, states, uowtransaction, single)\u001b[39m\n\u001b[32m     81\u001b[39m     update = _collect_update_commands(\n\u001b[32m     82\u001b[39m         uowtransaction, table, states_to_update\n\u001b[32m     83\u001b[39m     )\n\u001b[32m     85\u001b[39m     _emit_update_statements(\n\u001b[32m     86\u001b[39m         base_mapper,\n\u001b[32m     87\u001b[39m         uowtransaction,\n\u001b[32m   (...)\u001b[39m\u001b[32m     90\u001b[39m         update,\n\u001b[32m     91\u001b[39m     )\n\u001b[32m---> \u001b[39m\u001b[32m93\u001b[39m     \u001b[43m_emit_insert_statements\u001b[49m\u001b[43m(\u001b[49m\n\u001b[32m     94\u001b[39m \u001b[43m        \u001b[49m\u001b[43mbase_mapper\u001b[49m\u001b[43m,\u001b[49m\n\u001b[32m     95\u001b[39m \u001b[43m        \u001b[49m\u001b[43muowtransaction\u001b[49m\u001b[43m,\u001b[49m\n\u001b[32m     96\u001b[39m \u001b[43m        \u001b[49m\u001b[43mmapper\u001b[49m\u001b[43m,\u001b[49m\n\u001b[32m     97\u001b[39m \u001b[43m        \u001b[49m\u001b[43mtable\u001b[49m\u001b[43m,\u001b[49m\n\u001b[32m     98\u001b[39m \u001b[43m        \u001b[49m\u001b[43minsert\u001b[49m\u001b[43m,\u001b[49m\n\u001b[32m     99\u001b[39m \u001b[43m    \u001b[49m\u001b[43m)\u001b[49m\n\u001b[32m    101\u001b[39m _finalize_insert_update_commands(\n\u001b[32m    102\u001b[39m     base_mapper,\n\u001b[32m    103\u001b[39m     uowtransaction,\n\u001b[32m   (...)\u001b[39m\u001b[32m    119\u001b[39m     ),\n\u001b[32m    120\u001b[39m )\n",
      "\u001b[36mFile \u001b[39m\u001b[32md:\\source\\repos\\postgres-encryption\\.venv\\Lib\\site-packages\\sqlalchemy\\orm\\persistence.py:1143\u001b[39m, in \u001b[36m_emit_insert_statements\u001b[39m\u001b[34m(base_mapper, uowtransaction, mapper, table, insert, bookkeeping, use_orm_insert_stmt, execution_options)\u001b[39m\n\u001b[32m   1140\u001b[39m \u001b[38;5;28;01mif\u001b[39;00m do_executemany:\n\u001b[32m   1141\u001b[39m     multiparams = [rec[\u001b[32m2\u001b[39m] \u001b[38;5;28;01mfor\u001b[39;00m rec \u001b[38;5;129;01min\u001b[39;00m records]\n\u001b[32m-> \u001b[39m\u001b[32m1143\u001b[39m     result = \u001b[43mconnection\u001b[49m\u001b[43m.\u001b[49m\u001b[43mexecute\u001b[49m\u001b[43m(\u001b[49m\n\u001b[32m   1144\u001b[39m \u001b[43m        \u001b[49m\u001b[43mstatement\u001b[49m\u001b[43m,\u001b[49m\u001b[43m \u001b[49m\u001b[43mmultiparams\u001b[49m\u001b[43m,\u001b[49m\u001b[43m \u001b[49m\u001b[43mexecution_options\u001b[49m\u001b[43m=\u001b[49m\u001b[43mexecution_options\u001b[49m\n\u001b[32m   1145\u001b[39m \u001b[43m    \u001b[49m\u001b[43m)\u001b[49m\n\u001b[32m   1147\u001b[39m     \u001b[38;5;28;01mif\u001b[39;00m use_orm_insert_stmt \u001b[38;5;129;01mis\u001b[39;00m \u001b[38;5;129;01mnot\u001b[39;00m \u001b[38;5;28;01mNone\u001b[39;00m:\n\u001b[32m   1148\u001b[39m         \u001b[38;5;28;01mif\u001b[39;00m return_result \u001b[38;5;129;01mis\u001b[39;00m \u001b[38;5;28;01mNone\u001b[39;00m:\n",
      "\u001b[36mFile \u001b[39m\u001b[32md:\\source\\repos\\postgres-encryption\\.venv\\Lib\\site-packages\\sqlalchemy\\engine\\base.py:1419\u001b[39m, in \u001b[36mConnection.execute\u001b[39m\u001b[34m(self, statement, parameters, execution_options)\u001b[39m\n\u001b[32m   1417\u001b[39m     \u001b[38;5;28;01mraise\u001b[39;00m exc.ObjectNotExecutableError(statement) \u001b[38;5;28;01mfrom\u001b[39;00m\u001b[38;5;250m \u001b[39m\u001b[34;01merr\u001b[39;00m\n\u001b[32m   1418\u001b[39m \u001b[38;5;28;01melse\u001b[39;00m:\n\u001b[32m-> \u001b[39m\u001b[32m1419\u001b[39m     \u001b[38;5;28;01mreturn\u001b[39;00m \u001b[43mmeth\u001b[49m\u001b[43m(\u001b[49m\n\u001b[32m   1420\u001b[39m \u001b[43m        \u001b[49m\u001b[38;5;28;43mself\u001b[39;49m\u001b[43m,\u001b[49m\n\u001b[32m   1421\u001b[39m \u001b[43m        \u001b[49m\u001b[43mdistilled_parameters\u001b[49m\u001b[43m,\u001b[49m\n\u001b[32m   1422\u001b[39m \u001b[43m        \u001b[49m\u001b[43mexecution_options\u001b[49m\u001b[43m \u001b[49m\u001b[38;5;129;43;01mor\u001b[39;49;00m\u001b[43m \u001b[49m\u001b[43mNO_OPTIONS\u001b[49m\u001b[43m,\u001b[49m\n\u001b[32m   1423\u001b[39m \u001b[43m    \u001b[49m\u001b[43m)\u001b[49m\n",
      "\u001b[36mFile \u001b[39m\u001b[32md:\\source\\repos\\postgres-encryption\\.venv\\Lib\\site-packages\\sqlalchemy\\sql\\elements.py:526\u001b[39m, in \u001b[36mClauseElement._execute_on_connection\u001b[39m\u001b[34m(self, connection, distilled_params, execution_options)\u001b[39m\n\u001b[32m    524\u001b[39m     \u001b[38;5;28;01mif\u001b[39;00m TYPE_CHECKING:\n\u001b[32m    525\u001b[39m         \u001b[38;5;28;01massert\u001b[39;00m \u001b[38;5;28misinstance\u001b[39m(\u001b[38;5;28mself\u001b[39m, Executable)\n\u001b[32m--> \u001b[39m\u001b[32m526\u001b[39m     \u001b[38;5;28;01mreturn\u001b[39;00m \u001b[43mconnection\u001b[49m\u001b[43m.\u001b[49m\u001b[43m_execute_clauseelement\u001b[49m\u001b[43m(\u001b[49m\n\u001b[32m    527\u001b[39m \u001b[43m        \u001b[49m\u001b[38;5;28;43mself\u001b[39;49m\u001b[43m,\u001b[49m\u001b[43m \u001b[49m\u001b[43mdistilled_params\u001b[49m\u001b[43m,\u001b[49m\u001b[43m \u001b[49m\u001b[43mexecution_options\u001b[49m\n\u001b[32m    528\u001b[39m \u001b[43m    \u001b[49m\u001b[43m)\u001b[49m\n\u001b[32m    529\u001b[39m \u001b[38;5;28;01melse\u001b[39;00m:\n\u001b[32m    530\u001b[39m     \u001b[38;5;28;01mraise\u001b[39;00m exc.ObjectNotExecutableError(\u001b[38;5;28mself\u001b[39m)\n",
      "\u001b[36mFile \u001b[39m\u001b[32md:\\source\\repos\\postgres-encryption\\.venv\\Lib\\site-packages\\sqlalchemy\\engine\\base.py:1641\u001b[39m, in \u001b[36mConnection._execute_clauseelement\u001b[39m\u001b[34m(self, elem, distilled_parameters, execution_options)\u001b[39m\n\u001b[32m   1629\u001b[39m compiled_cache: Optional[CompiledCacheType] = execution_options.get(\n\u001b[32m   1630\u001b[39m     \u001b[33m\"\u001b[39m\u001b[33mcompiled_cache\u001b[39m\u001b[33m\"\u001b[39m, \u001b[38;5;28mself\u001b[39m.engine._compiled_cache\n\u001b[32m   1631\u001b[39m )\n\u001b[32m   1633\u001b[39m compiled_sql, extracted_params, cache_hit = elem._compile_w_cache(\n\u001b[32m   1634\u001b[39m     dialect=dialect,\n\u001b[32m   1635\u001b[39m     compiled_cache=compiled_cache,\n\u001b[32m   (...)\u001b[39m\u001b[32m   1639\u001b[39m     linting=\u001b[38;5;28mself\u001b[39m.dialect.compiler_linting | compiler.WARN_LINTING,\n\u001b[32m   1640\u001b[39m )\n\u001b[32m-> \u001b[39m\u001b[32m1641\u001b[39m ret = \u001b[38;5;28;43mself\u001b[39;49m\u001b[43m.\u001b[49m\u001b[43m_execute_context\u001b[49m\u001b[43m(\u001b[49m\n\u001b[32m   1642\u001b[39m \u001b[43m    \u001b[49m\u001b[43mdialect\u001b[49m\u001b[43m,\u001b[49m\n\u001b[32m   1643\u001b[39m \u001b[43m    \u001b[49m\u001b[43mdialect\u001b[49m\u001b[43m.\u001b[49m\u001b[43mexecution_ctx_cls\u001b[49m\u001b[43m.\u001b[49m\u001b[43m_init_compiled\u001b[49m\u001b[43m,\u001b[49m\n\u001b[32m   1644\u001b[39m \u001b[43m    \u001b[49m\u001b[43mcompiled_sql\u001b[49m\u001b[43m,\u001b[49m\n\u001b[32m   1645\u001b[39m \u001b[43m    \u001b[49m\u001b[43mdistilled_parameters\u001b[49m\u001b[43m,\u001b[49m\n\u001b[32m   1646\u001b[39m \u001b[43m    \u001b[49m\u001b[43mexecution_options\u001b[49m\u001b[43m,\u001b[49m\n\u001b[32m   1647\u001b[39m \u001b[43m    \u001b[49m\u001b[43mcompiled_sql\u001b[49m\u001b[43m,\u001b[49m\n\u001b[32m   1648\u001b[39m \u001b[43m    \u001b[49m\u001b[43mdistilled_parameters\u001b[49m\u001b[43m,\u001b[49m\n\u001b[32m   1649\u001b[39m \u001b[43m    \u001b[49m\u001b[43melem\u001b[49m\u001b[43m,\u001b[49m\n\u001b[32m   1650\u001b[39m \u001b[43m    \u001b[49m\u001b[43mextracted_params\u001b[49m\u001b[43m,\u001b[49m\n\u001b[32m   1651\u001b[39m \u001b[43m    \u001b[49m\u001b[43mcache_hit\u001b[49m\u001b[43m=\u001b[49m\u001b[43mcache_hit\u001b[49m\u001b[43m,\u001b[49m\n\u001b[32m   1652\u001b[39m \u001b[43m\u001b[49m\u001b[43m)\u001b[49m\n\u001b[32m   1653\u001b[39m \u001b[38;5;28;01mif\u001b[39;00m has_events:\n\u001b[32m   1654\u001b[39m     \u001b[38;5;28mself\u001b[39m.dispatch.after_execute(\n\u001b[32m   1655\u001b[39m         \u001b[38;5;28mself\u001b[39m,\n\u001b[32m   1656\u001b[39m         elem,\n\u001b[32m   (...)\u001b[39m\u001b[32m   1660\u001b[39m         ret,\n\u001b[32m   1661\u001b[39m     )\n",
      "\u001b[36mFile \u001b[39m\u001b[32md:\\source\\repos\\postgres-encryption\\.venv\\Lib\\site-packages\\sqlalchemy\\engine\\base.py:1844\u001b[39m, in \u001b[36mConnection._execute_context\u001b[39m\u001b[34m(self, dialect, constructor, statement, parameters, execution_options, *args, **kw)\u001b[39m\n\u001b[32m   1841\u001b[39m context.pre_exec()\n\u001b[32m   1843\u001b[39m \u001b[38;5;28;01mif\u001b[39;00m context.execute_style \u001b[38;5;129;01mis\u001b[39;00m ExecuteStyle.INSERTMANYVALUES:\n\u001b[32m-> \u001b[39m\u001b[32m1844\u001b[39m     \u001b[38;5;28;01mreturn\u001b[39;00m \u001b[38;5;28;43mself\u001b[39;49m\u001b[43m.\u001b[49m\u001b[43m_exec_insertmany_context\u001b[49m\u001b[43m(\u001b[49m\u001b[43mdialect\u001b[49m\u001b[43m,\u001b[49m\u001b[43m \u001b[49m\u001b[43mcontext\u001b[49m\u001b[43m)\u001b[49m\n\u001b[32m   1845\u001b[39m \u001b[38;5;28;01melse\u001b[39;00m:\n\u001b[32m   1846\u001b[39m     \u001b[38;5;28;01mreturn\u001b[39;00m \u001b[38;5;28mself\u001b[39m._exec_single_context(\n\u001b[32m   1847\u001b[39m         dialect, context, statement, parameters\n\u001b[32m   1848\u001b[39m     )\n",
      "\u001b[36mFile \u001b[39m\u001b[32md:\\source\\repos\\postgres-encryption\\.venv\\Lib\\site-packages\\sqlalchemy\\engine\\base.py:2126\u001b[39m, in \u001b[36mConnection._exec_insertmany_context\u001b[39m\u001b[34m(self, dialect, context)\u001b[39m\n\u001b[32m   2118\u001b[39m         dialect.do_execute(\n\u001b[32m   2119\u001b[39m             cursor,\n\u001b[32m   2120\u001b[39m             sub_stmt,\n\u001b[32m   2121\u001b[39m             sub_params,\n\u001b[32m   2122\u001b[39m             context,\n\u001b[32m   2123\u001b[39m         )\n\u001b[32m   2125\u001b[39m \u001b[38;5;28;01mexcept\u001b[39;00m \u001b[38;5;167;01mBaseException\u001b[39;00m \u001b[38;5;28;01mas\u001b[39;00m e:\n\u001b[32m-> \u001b[39m\u001b[32m2126\u001b[39m     \u001b[38;5;28;43mself\u001b[39;49m\u001b[43m.\u001b[49m\u001b[43m_handle_dbapi_exception\u001b[49m\u001b[43m(\u001b[49m\n\u001b[32m   2127\u001b[39m \u001b[43m        \u001b[49m\u001b[43me\u001b[49m\u001b[43m,\u001b[49m\n\u001b[32m   2128\u001b[39m \u001b[43m        \u001b[49m\u001b[43msql_util\u001b[49m\u001b[43m.\u001b[49m\u001b[43m_long_statement\u001b[49m\u001b[43m(\u001b[49m\u001b[43msub_stmt\u001b[49m\u001b[43m)\u001b[49m\u001b[43m,\u001b[49m\n\u001b[32m   2129\u001b[39m \u001b[43m        \u001b[49m\u001b[43msub_params\u001b[49m\u001b[43m,\u001b[49m\n\u001b[32m   2130\u001b[39m \u001b[43m        \u001b[49m\u001b[43mcursor\u001b[49m\u001b[43m,\u001b[49m\n\u001b[32m   2131\u001b[39m \u001b[43m        \u001b[49m\u001b[43mcontext\u001b[49m\u001b[43m,\u001b[49m\n\u001b[32m   2132\u001b[39m \u001b[43m        \u001b[49m\u001b[43mis_sub_exec\u001b[49m\u001b[43m=\u001b[49m\u001b[38;5;28;43;01mTrue\u001b[39;49;00m\u001b[43m,\u001b[49m\n\u001b[32m   2133\u001b[39m \u001b[43m    \u001b[49m\u001b[43m)\u001b[49m\n\u001b[32m   2135\u001b[39m \u001b[38;5;28;01mif\u001b[39;00m engine_events:\n\u001b[32m   2136\u001b[39m     \u001b[38;5;28mself\u001b[39m.dispatch.after_cursor_execute(\n\u001b[32m   2137\u001b[39m         \u001b[38;5;28mself\u001b[39m,\n\u001b[32m   2138\u001b[39m         cursor,\n\u001b[32m   (...)\u001b[39m\u001b[32m   2142\u001b[39m         context.executemany,\n\u001b[32m   2143\u001b[39m     )\n",
      "\u001b[36mFile \u001b[39m\u001b[32md:\\source\\repos\\postgres-encryption\\.venv\\Lib\\site-packages\\sqlalchemy\\engine\\base.py:2355\u001b[39m, in \u001b[36mConnection._handle_dbapi_exception\u001b[39m\u001b[34m(self, e, statement, parameters, cursor, context, is_sub_exec)\u001b[39m\n\u001b[32m   2353\u001b[39m \u001b[38;5;28;01melif\u001b[39;00m should_wrap:\n\u001b[32m   2354\u001b[39m     \u001b[38;5;28;01massert\u001b[39;00m sqlalchemy_exception \u001b[38;5;129;01mis\u001b[39;00m \u001b[38;5;129;01mnot\u001b[39;00m \u001b[38;5;28;01mNone\u001b[39;00m\n\u001b[32m-> \u001b[39m\u001b[32m2355\u001b[39m     \u001b[38;5;28;01mraise\u001b[39;00m sqlalchemy_exception.with_traceback(exc_info[\u001b[32m2\u001b[39m]) \u001b[38;5;28;01mfrom\u001b[39;00m\u001b[38;5;250m \u001b[39m\u001b[34;01me\u001b[39;00m\n\u001b[32m   2356\u001b[39m \u001b[38;5;28;01melse\u001b[39;00m:\n\u001b[32m   2357\u001b[39m     \u001b[38;5;28;01massert\u001b[39;00m exc_info[\u001b[32m1\u001b[39m] \u001b[38;5;129;01mis\u001b[39;00m \u001b[38;5;129;01mnot\u001b[39;00m \u001b[38;5;28;01mNone\u001b[39;00m\n",
      "\u001b[36mFile \u001b[39m\u001b[32md:\\source\\repos\\postgres-encryption\\.venv\\Lib\\site-packages\\sqlalchemy\\engine\\base.py:2118\u001b[39m, in \u001b[36mConnection._exec_insertmany_context\u001b[39m\u001b[34m(self, dialect, context)\u001b[39m\n\u001b[32m   2116\u001b[39m             \u001b[38;5;28;01mbreak\u001b[39;00m\n\u001b[32m   2117\u001b[39m     \u001b[38;5;28;01melse\u001b[39;00m:\n\u001b[32m-> \u001b[39m\u001b[32m2118\u001b[39m         \u001b[43mdialect\u001b[49m\u001b[43m.\u001b[49m\u001b[43mdo_execute\u001b[49m\u001b[43m(\u001b[49m\n\u001b[32m   2119\u001b[39m \u001b[43m            \u001b[49m\u001b[43mcursor\u001b[49m\u001b[43m,\u001b[49m\n\u001b[32m   2120\u001b[39m \u001b[43m            \u001b[49m\u001b[43msub_stmt\u001b[49m\u001b[43m,\u001b[49m\n\u001b[32m   2121\u001b[39m \u001b[43m            \u001b[49m\u001b[43msub_params\u001b[49m\u001b[43m,\u001b[49m\n\u001b[32m   2122\u001b[39m \u001b[43m            \u001b[49m\u001b[43mcontext\u001b[49m\u001b[43m,\u001b[49m\n\u001b[32m   2123\u001b[39m \u001b[43m        \u001b[49m\u001b[43m)\u001b[49m\n\u001b[32m   2125\u001b[39m \u001b[38;5;28;01mexcept\u001b[39;00m \u001b[38;5;167;01mBaseException\u001b[39;00m \u001b[38;5;28;01mas\u001b[39;00m e:\n\u001b[32m   2126\u001b[39m     \u001b[38;5;28mself\u001b[39m._handle_dbapi_exception(\n\u001b[32m   2127\u001b[39m         e,\n\u001b[32m   2128\u001b[39m         sql_util._long_statement(sub_stmt),\n\u001b[32m   (...)\u001b[39m\u001b[32m   2132\u001b[39m         is_sub_exec=\u001b[38;5;28;01mTrue\u001b[39;00m,\n\u001b[32m   2133\u001b[39m     )\n",
      "\u001b[36mFile \u001b[39m\u001b[32md:\\source\\repos\\postgres-encryption\\.venv\\Lib\\site-packages\\sqlalchemy\\engine\\default.py:951\u001b[39m, in \u001b[36mDefaultDialect.do_execute\u001b[39m\u001b[34m(self, cursor, statement, parameters, context)\u001b[39m\n\u001b[32m    950\u001b[39m \u001b[38;5;28;01mdef\u001b[39;00m\u001b[38;5;250m \u001b[39m\u001b[34mdo_execute\u001b[39m(\u001b[38;5;28mself\u001b[39m, cursor, statement, parameters, context=\u001b[38;5;28;01mNone\u001b[39;00m):\n\u001b[32m--> \u001b[39m\u001b[32m951\u001b[39m     \u001b[43mcursor\u001b[49m\u001b[43m.\u001b[49m\u001b[43mexecute\u001b[49m\u001b[43m(\u001b[49m\u001b[43mstatement\u001b[49m\u001b[43m,\u001b[49m\u001b[43m \u001b[49m\u001b[43mparameters\u001b[49m\u001b[43m)\u001b[49m\n",
      "\u001b[36mFile \u001b[39m\u001b[32md:\\source\\repos\\postgres-encryption\\.venv\\Lib\\site-packages\\psycopg\\cursor.py:97\u001b[39m, in \u001b[36mCursor.execute\u001b[39m\u001b[34m(self, query, params, prepare, binary)\u001b[39m\n\u001b[32m     93\u001b[39m         \u001b[38;5;28mself\u001b[39m._conn.wait(\n\u001b[32m     94\u001b[39m             \u001b[38;5;28mself\u001b[39m._execute_gen(query, params, prepare=prepare, binary=binary)\n\u001b[32m     95\u001b[39m         )\n\u001b[32m     96\u001b[39m \u001b[38;5;28;01mexcept\u001b[39;00m e._NO_TRACEBACK \u001b[38;5;28;01mas\u001b[39;00m ex:\n\u001b[32m---> \u001b[39m\u001b[32m97\u001b[39m     \u001b[38;5;28;01mraise\u001b[39;00m ex.with_traceback(\u001b[38;5;28;01mNone\u001b[39;00m)\n\u001b[32m     98\u001b[39m \u001b[38;5;28;01mreturn\u001b[39;00m \u001b[38;5;28mself\u001b[39m\n",
      "\u001b[31mProgrammingError\u001b[39m: (psycopg.errors.UndefinedFunction) function pgp_pub_encrypt(character varying, character varying) does not exist\nLINE 1: ...p0::VARCHAR, p1::BYTEA FROM (VALUES ($1::VARCHAR, pgp_pub_en...\n                                                             ^\nHINT:  No function matches the given name and argument types. You might need to add explicit type casts.\n[SQL: INSERT INTO customer_secret_pub_orm (full_name, national_id) SELECT p0::VARCHAR, p1::BYTEA FROM (VALUES (%(full_name__0)s::VARCHAR, pgp_pub_encrypt(%(national_id__0)s::VARCHAR, %(param_1__0)s::VARCHAR), 0), (%(full_name__1)s::VARCHAR, pgp_pub_encrypt ... 189 characters truncated ... nter) ORDER BY sen_counter RETURNING customer_secret_pub_orm.id, customer_secret_pub_orm.id AS id__1]\n[parameters: {'param_1__0': '-----BEGIN PGP PUBLIC KEY BLOCK-----\\n\\nxsBNBGj3SJcBCADJkbHP8hVGEmEes8WvBC/8L3Wy2mJcop/ZLnYhiCxCWwePJCyG\\noTQXTxgnGZTHUfOWYmwqDeL5AQlUlLpXpJT4dqpOfCV ... (665 characters truncated) ... nA6XobRxvep6zb12\\n/fCV31nMSSyY6JOA3Kn6iQPHsfea62rvDTk9/nmpl1pi42pAgXkMQPwGj27TzSlS\\nYHciB14a9QUblUW9pYQ=\\n=p0mH\\n-----END PGP PUBLIC KEY BLOCK-----\\n', 'national_id__0': '1101700200011', 'full_name__0': 'สมชาย ใจดี', 'param_1__1': '-----BEGIN PGP PUBLIC KEY BLOCK-----\\n\\nxsBNBGj3SJcBCADJkbHP8hVGEmEes8WvBC/8L3Wy2mJcop/ZLnYhiCxCWwePJCyG\\noTQXTxgnGZTHUfOWYmwqDeL5AQlUlLpXpJT4dqpOfCV ... (665 characters truncated) ... nA6XobRxvep6zb12\\n/fCV31nMSSyY6JOA3Kn6iQPHsfea62rvDTk9/nmpl1pi42pAgXkMQPwGj27TzSlS\\nYHciB14a9QUblUW9pYQ=\\n=p0mH\\n-----END PGP PUBLIC KEY BLOCK-----\\n', 'national_id__1': '1101700200022', 'full_name__1': 'สมหญิง แข็งแรง', 'param_1__2': '-----BEGIN PGP PUBLIC KEY BLOCK-----\\n\\nxsBNBGj3SJcBCADJkbHP8hVGEmEes8WvBC/8L3Wy2mJcop/ZLnYhiCxCWwePJCyG\\noTQXTxgnGZTHUfOWYmwqDeL5AQlUlLpXpJT4dqpOfCV ... (665 characters truncated) ... nA6XobRxvep6zb12\\n/fCV31nMSSyY6JOA3Kn6iQPHsfea62rvDTk9/nmpl1pi42pAgXkMQPwGj27TzSlS\\nYHciB14a9QUblUW9pYQ=\\n=p0mH\\n-----END PGP PUBLIC KEY BLOCK-----\\n', 'national_id__2': '1101700200033', 'full_name__2': 'สายฝน สายชล'}]\n(Background on this error at: https://sqlalche.me/e/20/f405)"
     ]
    }
   ],
   "source": [
    "samples = [\n",
    "    ('สมชาย ใจดี', '1101700200011'),\n",
    "    ('สมหญิง แข็งแรง', '1101700200022'),\n",
    "    ('สายฝน สายชล', '1101700200033'),\n",
    "]\n",
    "\n",
    "with Session(engine) as session:\n",
    "    session.add_all([CustomerSecretPubORM(full_name=n, national_id=i) for n, i in samples])\n",
    "    session.commit()\n",
    "print('เพิ่มข้อมูลสำเร็จ (ถูกเข้ารหัสก่อนบันทึก)')\n"
   ]
  },
  {
   "cell_type": "markdown",
   "metadata": {},
   "source": [
    "## อ่านข้อมูลแบบเข้ารหัส (ยังไม่ถอดรหัส)"
   ]
  },
  {
   "cell_type": "code",
   "execution_count": null,
   "metadata": {},
   "outputs": [],
   "source": [
    "with Session(engine) as session:\n",
    "    result = session.execute(\n",
    "        select(\n",
    "            CustomerSecretPubORM.id,\n",
    "            CustomerSecretPubORM.full_name,\n",
    "            CustomerSecretPubORM.__table__.c.national_id.label('national_id_encrypted'),\n",
    "            func.encode(CustomerSecretPubORM.__table__.c.national_id, 'hex').label('ct_hex'),\n",
    "            func.octet_length(CustomerSecretPubORM.__table__.c.national_id).label('ct_bytes')\n",
    "        ).order_by(CustomerSecretPubORM.id)\n",
    "    ).all()\n",
    "pd.DataFrame(result, columns=['id', 'full_name', 'national_id_encrypted', 'ct_hex', 'ct_bytes'])\n"
   ]
  },
  {
   "cell_type": "markdown",
   "metadata": {},
   "source": [
    "## อ่านข้อมูลแบบถอดรหัส (ผ่าน column_expression)"
   ]
  },
  {
   "cell_type": "code",
   "execution_count": null,
   "metadata": {},
   "outputs": [],
   "source": [
    "with Session(engine) as session:\n",
    "    result = session.execute(\n",
    "        select(CustomerSecretPubORM.id, CustomerSecretPubORM.full_name, CustomerSecretPubORM.national_id)\n",
    "        .order_by(CustomerSecretPubORM.id)\n",
    "    ).all()\n",
    "pd.DataFrame(result, columns=['id', 'full_name', 'national_id'])\n"
   ]
  },
  {
   "cell_type": "markdown",
   "metadata": {},
   "source": [
    "### หมายเหตุ\n",
    "- ตัวอย่างนี้สร้างกุญแจทุกครั้ง ข้อมูลที่เขียนด้วยกุญแจชุดนี้จะถอดไม่ได้หากเปลี่ยนกุญแจ\n",
    "- หากต้องการใช้งานจริง ให้สร้าง/เก็บกุญแจถาวร และกำหนดสิทธิ์เข้าถึงอย่างเหมาะสม\n",
    "- `pgp_pub_encrypt`/`pgp_pub_decrypt` เก็บข้อมูลเป็น `bytea` ในตาราง และไม่เหมาะกับการทำ index โดยตรง\n"
   ]
  }
 ],
 "metadata": {
  "kernelspec": {
   "display_name": ".venv (3.13.3)",
   "language": "python",
   "name": "python3"
  },
  "language_info": {
   "codemirror_mode": {
    "name": "ipython",
    "version": 3
   },
   "file_extension": ".py",
   "mimetype": "text/x-python",
   "name": "python",
   "nbconvert_exporter": "python",
   "pygments_lexer": "ipython3",
   "version": "3.13.3"
  }
 },
 "nbformat": 4,
 "nbformat_minor": 5
}
