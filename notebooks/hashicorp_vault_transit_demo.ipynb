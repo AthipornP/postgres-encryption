{
 "cells": [
  {
   "cell_type": "markdown",
   "metadata": {},
   "source": [
    "# HashiCorp Vault Transit + การเข้ารหัสในแบบ ORM\n",
    "\n",
    "โน้ตบุ๊กนี้เลียนแบบการทำงานของ ORM แต่เปลี่ยนการเก็บ/เรียกกุญแจจากการเก็บใน ENV มาเป็นเรียกใช้งานผ่าน HashiCorp Vault (transit).\n",
    "เราจะแสดงการเข้ารหัส/ถอดรหัสคอลัมน์อย่างโปร่งใสผ่าน SQLAlchemy โดยเรียก Vault ผ่าน HTTP API"
   ]
  },
  {
   "cell_type": "markdown",
   "metadata": {},
   "source": [
    "## เตรียมสภาพแวดล้อม\n",
    "- รัน `docker-compose up -d postgres vault` เพื่อให้บริการ Postgres และ Vault พร้อมใช้งาน\n",
    "- ยืนยันว่า Vault ฟังที่ `http://127.0.0.1:8200` (dev token เริ่มต้น: `root`)\n",
    "- เปิดใช้งาน virtualenv ในเครื่อง (`.venv\\Scripts\\Activate.ps1` บน PowerShell) หรือติดตั้ง dependencies จาก `requirements.txt`\n"
   ]
  },
  {
   "cell_type": "code",
   "execution_count": 1,
   "metadata": {},
   "outputs": [],
   "source": [
    "# ติดตั้ง dependencies ถ้าจำเป็น (ข้ามได้ถ้าติดตั้งแล้วใน venv)\n",
    "# %pip install -q \"psycopg[binary]>=3.1\" SQLAlchemy>=2.0 pandas\n"
   ]
  },
  {
   "cell_type": "markdown",
   "metadata": {},
   "source": [
    "## เชื่อมต่อกับ Vault และประกาศโมเดล ORM\n",
    "- `VaultTransitClient` ห่อหุ้มการเรียก HTTP พื้นฐานที่ต้องใช้กับ Vault\n",
    "- `VaultTransitEncryptedText` เก็บ ciphertext ใน Postgres และเรียก Vault เพื่อถอดรหัสเมื่ออ่านข้อมูล\n"
   ]
  },
  {
   "cell_type": "code",
   "execution_count": 2,
   "metadata": {},
   "outputs": [
    {
     "name": "stdout",
     "output_type": "stream",
     "text": [
      "เปิดใช้งาน transit secrets engine แล้ว\n",
      "Transit key 'customer-data' พร้อมใช้งาน (latest version 1)\n",
      "สร้างตาราง customer_secret_vault ใหม่แล้ว\n"
     ]
    }
   ],
   "source": [
    "import base64\n",
    "import json\n",
    "import os\n",
    "from typing import Optional\n",
    "\n",
    "import pandas as pd\n",
    "from sqlalchemy import create_engine, Text, select, text\n",
    "from sqlalchemy.orm import DeclarativeBase, Mapped, Session, mapped_column\n",
    "from sqlalchemy.types import TypeDecorator\n",
    "\n",
    "import urllib.error\n",
    "import urllib.request\n",
    "\n",
    "# ค่าการเชื่อมต่อฐานข้อมูล (ปรับได้ผ่าน ENV)\n",
    "PG_HOST = os.getenv(\"PG_HOST\", \"localhost\")\n",
    "PG_PORT = int(os.getenv(\"PG_PORT\", \"5432\"))\n",
    "PG_DB = os.getenv(\"PG_DB\", \"encdb\")\n",
    "PG_USER = os.getenv(\"PG_USER\", \"encuser\")\n",
    "PG_PWD = os.getenv(\"PG_PASSWORD\", \"encpass\")\n",
    "\n",
    "# ค่าการเชื่อมต่อ Vault (ปรับได้ผ่าน ENV)\n",
    "VAULT_ADDR = os.getenv(\"VAULT_ADDR\", \"http://127.0.0.1:8200\")\n",
    "VAULT_TOKEN = os.getenv(\"VAULT_TOKEN\", \"root\")\n",
    "VAULT_TRANSIT_KEY = os.getenv(\"VAULT_TRANSIT_KEY\", \"customer-data\")\n",
    "\n",
    "engine = create_engine(\n",
    "    f\"postgresql+psycopg://{PG_USER}:{PG_PWD}@{PG_HOST}:{PG_PORT}/{PG_DB}\",\n",
    "    future=True,\n",
    ")\n",
    "\n",
    "\n",
    "# ข้อผิดพลาดสำหรับการเรียก Vault\n",
    "class VaultRequestError(RuntimeError):\n",
    "    def __init__(self, status_code: int, detail: str):\n",
    "        super().__init__(f\"Vault request failed ({status_code}): {detail}\")\n",
    "        self.status_code = status_code\n",
    "        self.detail = detail\n",
    "\n",
    "\n",
    "class VaultTransitClient:\n",
    "    def __init__(self, addr: str, token: str, default_key: str):\n",
    "        # เก็บค่า base URL ของ Vault และ token สำหรับเรียก API\n",
    "        self.addr = addr.rstrip(\"/\")\n",
    "        self.token = token\n",
    "        self.default_key = default_key\n",
    "\n",
    "    def _request(self, method: str, path: str, payload: Optional[dict] = None, *, expected=(200, 204, 202)):\n",
    "        data = None\n",
    "        if payload is not None:\n",
    "            data = json.dumps(payload).encode(\"utf-8\")\n",
    "        req = urllib.request.Request(f\"{self.addr}{path}\", data=data, method=method.upper())\n",
    "        req.add_header(\"X-Vault-Token\", self.token)\n",
    "        if payload is not None:\n",
    "            req.add_header(\"Content-Type\", \"application/json\")\n",
    "        try:\n",
    "            with urllib.request.urlopen(req) as resp:\n",
    "                status = resp.status\n",
    "                body = resp.read()\n",
    "        except urllib.error.HTTPError as err:\n",
    "            detail = err.read().decode(\"utf-8\", errors=\"ignore\")\n",
    "            raise VaultRequestError(err.code, detail) from err\n",
    "        except urllib.error.URLError as err:\n",
    "            raise RuntimeError(f\"ไม่สามารถติดต่อ Vault ที่ {self.addr}: {err.reason}\") from err\n",
    "        if status not in expected:\n",
    "            raise VaultRequestError(status, body.decode(\"utf-8\", errors=\"ignore\"))\n",
    "        if not body:\n",
    "            return {}\n",
    "        return json.loads(body.decode(\"utf-8\"))\n",
    "\n",
    "    def ensure_transit(self):\n",
    "        mounts = self._request(\"GET\", \"/v1/sys/mounts\")\n",
    "        if \"transit/\" not in mounts.get(\"data\", {}):\n",
    "            self._request(\"POST\", \"/v1/sys/mounts/transit\", {\"type\": \"transit\"})\n",
    "            print(\"เปิดใช้งาน transit secrets engine แล้ว\")\n",
    "        else:\n",
    "            print(\"Transit secrets engine พร้อมใช้งานอยู่แล้ว\")\n",
    "\n",
    "    def ensure_key(self, key_name: Optional[str] = None):\n",
    "        name = key_name or self.default_key\n",
    "        try:\n",
    "            return self._request(\"GET\", f\"/v1/transit/keys/{name}\")\n",
    "        except VaultRequestError as err:\n",
    "            if err.status_code != 404:\n",
    "                raise\n",
    "        # สร้างกุญแจแบบ AES-GCM ถ้ายังไม่มี\n",
    "        self._request(\"POST\", f\"/v1/transit/keys/{name}\", {\"type\": \"aes256-gcm96\"})\n",
    "        return self._request(\"GET\", f\"/v1/transit/keys/{name}\")\n",
    "\n",
    "    def encrypt(self, plaintext: str, key_name: Optional[str] = None) -> str:\n",
    "        name = key_name or self.default_key\n",
    "        # encode เป็น base64 ก่อนส่งให้ Vault\n",
    "        encoded = base64.b64encode(plaintext.encode(\"utf-8\")).decode(\"utf-8\")\n",
    "        response = self._request(\"POST\", f\"/v1/transit/encrypt/{name}\", {\"plaintext\": encoded})\n",
    "        return response[\"data\"][\"ciphertext\"]\n",
    "\n",
    "    def decrypt(self, ciphertext: str, key_name: Optional[str] = None) -> str:\n",
    "        name = key_name or self.default_key\n",
    "        response = self._request(\"POST\", f\"/v1/transit/decrypt/{name}\", {\"ciphertext\": ciphertext})\n",
    "        decoded = base64.b64decode(response[\"data\"][\"plaintext\"]).decode(\"utf-8\")\n",
    "        return decoded\n",
    "\n",
    "\n",
    "# สร้าง client และเตรียม transit/key ถ้ายังไม่ถูกสร้าง\n",
    "vault_client = VaultTransitClient(VAULT_ADDR, VAULT_TOKEN, VAULT_TRANSIT_KEY)\n",
    "vault_client.ensure_transit()\n",
    "key_info = vault_client.ensure_key()\n",
    "print(f\"Transit key '{VAULT_TRANSIT_KEY}' พร้อมใช้งาน (latest version {key_info['data']['latest_version']})\")\n",
    "\n",
    "\n",
    "class Base(DeclarativeBase):\n",
    "    pass\n",
    "\n",
    "\n",
    "class VaultTransitEncryptedText(TypeDecorator):\n",
    "    impl = Text\n",
    "    cache_ok = True\n",
    "\n",
    "    def __init__(self, transit_client: VaultTransitClient, key_name: Optional[str] = None):\n",
    "        super().__init__()\n",
    "        self.transit_client = transit_client\n",
    "        self.key_name = key_name or transit_client.default_key\n",
    "\n",
    "    def process_bind_param(self, value, dialect):\n",
    "        # ก่อนบันทึก: เรียก Vault encrypt เพื่อรับ ciphertext (string) แล้วเก็บในคอลัมน์\n",
    "        if value is None:\n",
    "            return None\n",
    "        return self.transit_client.encrypt(value, self.key_name)\n",
    "\n",
    "    def process_result_value(self, value, dialect):\n",
    "        # ตอนอ่าน: เรียก Vault decrypt เพื่อถอดค่า แล้วคืน plaintext\n",
    "        if value is None:\n",
    "            return None\n",
    "        return self.transit_client.decrypt(value, self.key_name)\n",
    "\n",
    "\n",
    "class CustomerSecretVault(Base):\n",
    "    __tablename__ = \"customer_secret_vault\"\n",
    "    id: Mapped[int] = mapped_column(primary_key=True, autoincrement=True)\n",
    "    full_name: Mapped[str] = mapped_column(Text, nullable=False)\n",
    "    national_id: Mapped[str] = mapped_column(VaultTransitEncryptedText(vault_client), nullable=False)\n",
    "\n",
    "    def __repr__(self) -> str:\n",
    "        return f\"<CustomerSecretVault id={self.id} full_name={self.full_name!r}>\"\n",
    "\n",
    "\n",
    "with engine.begin() as conn:\n",
    "    conn.execute(text(\"DROP TABLE IF EXISTS customer_secret_vault\"))\n",
    "Base.metadata.create_all(engine)\n",
    "print(\"สร้างตาราง customer_secret_vault ใหม่แล้ว\")\n"
   ]
  },
  {
   "cell_type": "markdown",
   "metadata": {},
   "source": [
    "## ใส่ข้อมูลตัวอย่าง (Vault จะจัดการการเข้ารหัส)\n"
   ]
  },
  {
   "cell_type": "code",
   "execution_count": 3,
   "metadata": {},
   "outputs": [
    {
     "name": "stdout",
     "output_type": "stream",
     "text": [
      "เพิ่มข้อมูลตัวอย่างโดยใช้ Vault transit encryption แล้ว\n"
     ]
    }
   ],
   "source": [
    "# ตัวอย่างข้อมูลเพื่อทดสอบ\n",
    "samples = [\n",
    "    (\"Alice Carter\", \"1101700200011\"),\n",
    "    (\"Brian Cruz\", \"1101700200022\"),\n",
    "    (\"Chloe Ramsey\", \"1101700200033\"),\n",
    "]\n",
    "\n",
    "with Session(engine) as session:\n",
    "    session.add_all([CustomerSecretVault(full_name=name, national_id=nid) for name, nid in samples])\n",
    "    session.commit()\n",
    "print(\"เพิ่มข้อมูลตัวอย่างโดยใช้ Vault transit encryption แล้ว\")\n"
   ]
  },
  {
   "cell_type": "markdown",
   "metadata": {},
   "source": [
    "## ตรวจสอบ ciphertext ที่เก็บจริงใน Postgres\n",
    "- ORM จะเก็บค่า ciphertext ที่ได้จาก Vault (มักขึ้นต้นด้วย `vault:`) ในคอลัมน์\n"
   ]
  },
  {
   "cell_type": "code",
   "execution_count": 4,
   "metadata": {},
   "outputs": [
    {
     "data": {
      "text/html": [
       "<div>\n",
       "<style scoped>\n",
       "    .dataframe tbody tr th:only-of-type {\n",
       "        vertical-align: middle;\n",
       "    }\n",
       "\n",
       "    .dataframe tbody tr th {\n",
       "        vertical-align: top;\n",
       "    }\n",
       "\n",
       "    .dataframe thead th {\n",
       "        text-align: right;\n",
       "    }\n",
       "</style>\n",
       "<table border=\"1\" class=\"dataframe\">\n",
       "  <thead>\n",
       "    <tr style=\"text-align: right;\">\n",
       "      <th></th>\n",
       "      <th>id</th>\n",
       "      <th>full_name</th>\n",
       "      <th>ciphertext</th>\n",
       "    </tr>\n",
       "  </thead>\n",
       "  <tbody>\n",
       "    <tr>\n",
       "      <th>0</th>\n",
       "      <td>1</td>\n",
       "      <td>Alice Carter</td>\n",
       "      <td>vault:v1:bY5XYpOW46tDSuvBOF1XYm83mwLmaNG9xCn6g...</td>\n",
       "    </tr>\n",
       "    <tr>\n",
       "      <th>1</th>\n",
       "      <td>2</td>\n",
       "      <td>Brian Cruz</td>\n",
       "      <td>vault:v1:nKL7zVukSLZ9KvJnDiq0mzbfR/EciCRgg1iKB...</td>\n",
       "    </tr>\n",
       "    <tr>\n",
       "      <th>2</th>\n",
       "      <td>3</td>\n",
       "      <td>Chloe Ramsey</td>\n",
       "      <td>vault:v1:H2kYO/dPZSmfF6p62TFmPWrdAZlNJvOA45O05...</td>\n",
       "    </tr>\n",
       "  </tbody>\n",
       "</table>\n",
       "</div>"
      ],
      "text/plain": [
       "   id     full_name                                         ciphertext\n",
       "0   1  Alice Carter  vault:v1:bY5XYpOW46tDSuvBOF1XYm83mwLmaNG9xCn6g...\n",
       "1   2    Brian Cruz  vault:v1:nKL7zVukSLZ9KvJnDiq0mzbfR/EciCRgg1iKB...\n",
       "2   3  Chloe Ramsey  vault:v1:H2kYO/dPZSmfF6p62TFmPWrdAZlNJvOA45O05..."
      ]
     },
     "execution_count": 4,
     "metadata": {},
     "output_type": "execute_result"
    }
   ],
   "source": [
    "# ดึงค่า ciphertext ที่เก็บในฐานข้อมูลโดยตรง\n",
    "with engine.begin() as conn:\n",
    "    rows = conn.execute(\n",
    "        text(\"SELECT id, full_name, national_id AS ciphertext FROM customer_secret_vault ORDER BY id\")\n",
    "    ).fetchall()\n",
    "pd.DataFrame(rows, columns=[\"id\", \"full_name\", \"ciphertext\"])\n"
   ]
  },
  {
   "cell_type": "markdown",
   "metadata": {},
   "source": [
    "## คิวรีผ่าน ORM (Vault จะถอดรหัสให้โดยอัตโนมัติ)\n",
    "- การอ่านผ่าน SQLAlchemy จะเรียก `process_result_value` ซึ่งจะเรียก Vault เพื่ถอดค่า ciphertext เป็น plaintext\n"
   ]
  },
  {
   "cell_type": "code",
   "execution_count": 5,
   "metadata": {},
   "outputs": [
    {
     "data": {
      "text/html": [
       "<div>\n",
       "<style scoped>\n",
       "    .dataframe tbody tr th:only-of-type {\n",
       "        vertical-align: middle;\n",
       "    }\n",
       "\n",
       "    .dataframe tbody tr th {\n",
       "        vertical-align: top;\n",
       "    }\n",
       "\n",
       "    .dataframe thead th {\n",
       "        text-align: right;\n",
       "    }\n",
       "</style>\n",
       "<table border=\"1\" class=\"dataframe\">\n",
       "  <thead>\n",
       "    <tr style=\"text-align: right;\">\n",
       "      <th></th>\n",
       "      <th>id</th>\n",
       "      <th>full_name</th>\n",
       "      <th>national_id_plain</th>\n",
       "    </tr>\n",
       "  </thead>\n",
       "  <tbody>\n",
       "    <tr>\n",
       "      <th>0</th>\n",
       "      <td>1</td>\n",
       "      <td>Alice Carter</td>\n",
       "      <td>1101700200011</td>\n",
       "    </tr>\n",
       "    <tr>\n",
       "      <th>1</th>\n",
       "      <td>2</td>\n",
       "      <td>Brian Cruz</td>\n",
       "      <td>1101700200022</td>\n",
       "    </tr>\n",
       "    <tr>\n",
       "      <th>2</th>\n",
       "      <td>3</td>\n",
       "      <td>Chloe Ramsey</td>\n",
       "      <td>1101700200033</td>\n",
       "    </tr>\n",
       "  </tbody>\n",
       "</table>\n",
       "</div>"
      ],
      "text/plain": [
       "   id     full_name national_id_plain\n",
       "0   1  Alice Carter     1101700200011\n",
       "1   2    Brian Cruz     1101700200022\n",
       "2   3  Chloe Ramsey     1101700200033"
      ]
     },
     "execution_count": 5,
     "metadata": {},
     "output_type": "execute_result"
    }
   ],
   "source": [
    "# อ่านข้อมูลผ่าน ORM ซึ่งจะได้ค่า plaintext เพราะ Vault ถอดรหัสให้\n",
    "with Session(engine) as session:\n",
    "    result = session.execute(\n",
    "        select(CustomerSecretVault.id, CustomerSecretVault.full_name, CustomerSecretVault.national_id)\n",
    "        .order_by(CustomerSecretVault.id)\n",
    "    ).all()\n",
    "pd.DataFrame(result, columns=[\"id\", \"full_name\", \"national_id_plain\"])\n"
   ]
  },
  {
   "cell_type": "markdown",
   "metadata": {},
   "source": [
    "### หมายเหตุ\n",
    "- ตัวอย่างนี้ใช้ token แบบ dev/root เพื่อความสะดวกในการทดสอบ — ในการใช้งานจริง ให้ใช้ AppRole, JWT หรือวิธีการให้สิทธิ์ที่ปลอดภัยกว่า\n",
    "- Vault Transit จะไม่เผย key material ดิบให้กับผู้เรียก ทำให้ ciphertext ที่เก็บใน Postgres ปลอดภัยยิ่งขึ้น\n",
    "- การอ่านแต่ละแถวจะเรียก Vault เพื่ถอดรหัส — หากต้องการประสิทธิภาพสำหรับชุดข้อมูลขนาดใหญ่ ให้พิจารณาการ cache, การรวมคิวรี หรือตัดสินใจใช้วิธีถอดรหัสแบบ batch\n"
   ]
  }
 ],
 "metadata": {
  "kernelspec": {
   "display_name": ".venv (3.13.3)",
   "language": "python",
   "name": "python3"
  },
  "language_info": {
   "codemirror_mode": {
    "name": "ipython",
    "version": 3
   },
   "file_extension": ".py",
   "mimetype": "text/x-python",
   "name": "python",
   "nbconvert_exporter": "python",
   "pygments_lexer": "ipython3",
   "version": "3.13.3"
  }
 },
 "nbformat": 4,
 "nbformat_minor": 5
}
